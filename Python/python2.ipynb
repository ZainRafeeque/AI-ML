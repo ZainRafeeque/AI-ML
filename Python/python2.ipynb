{
 "cells": [
  {
   "cell_type": "code",
   "execution_count": 1,
   "id": "0e00299c-058e-4244-98eb-d53d2476978d",
   "metadata": {},
   "outputs": [],
   "source": [
    "#Complex Number"
   ]
  },
  {
   "cell_type": "code",
   "execution_count": 4,
   "id": "cdcddade-c3f7-48b8-ad63-a43d8370d9da",
   "metadata": {},
   "outputs": [],
   "source": [
    "#Complex Number ? A complex number which can we studied in ou school. its abot real number and imaginary number , \n",
    "#which can be denote as i, \n",
    "#example of complex number - 2+4i, But in pyhton i is denoted with j\n",
    "#see example in jupyer cell."
   ]
  },
  {
   "cell_type": "code",
   "execution_count": 2,
   "id": "65438f25-a28e-45b5-93cf-0e6e14b5545d",
   "metadata": {},
   "outputs": [],
   "source": [
    "c=2+4j"
   ]
  },
  {
   "cell_type": "code",
   "execution_count": 3,
   "id": "56c46fbd-979d-4f02-9ac4-c5943c038aa2",
   "metadata": {},
   "outputs": [
    {
     "data": {
      "text/plain": [
       "complex"
      ]
     },
     "execution_count": 3,
     "metadata": {},
     "output_type": "execute_result"
    }
   ],
   "source": [
    "type(c)"
   ]
  },
  {
   "cell_type": "code",
   "execution_count": 5,
   "id": "12d32627-29b8-4fff-9eeb-aa0801b59e8e",
   "metadata": {},
   "outputs": [
    {
     "data": {
      "text/plain": [
       "'Dhoni was a Hero'"
      ]
     },
     "execution_count": 5,
     "metadata": {},
     "output_type": "execute_result"
    }
   ],
   "source": [
    "a='Dhoni was a Hero'\n",
    "a"
   ]
  },
  {
   "cell_type": "code",
   "execution_count": 6,
   "id": "f4713ba6-d5ea-4ed2-968f-bf61a7cbd0c6",
   "metadata": {},
   "outputs": [
    {
     "data": {
      "text/plain": [
       "str"
      ]
     },
     "execution_count": 6,
     "metadata": {},
     "output_type": "execute_result"
    }
   ],
   "source": [
    "type(a)"
   ]
  },
  {
   "cell_type": "code",
   "execution_count": 7,
   "id": "66c4d405-9279-4d65-9bb9-c0d607fcd2ca",
   "metadata": {},
   "outputs": [
    {
     "name": "stdout",
     "output_type": "stream",
     "text": [
      "my name is zain\n"
     ]
    }
   ],
   "source": [
    "str1='my'\n",
    "str2=' name is'\n",
    "str3=' zain'\n",
    "k=str1+str2+str3\n",
    "print(k)"
   ]
  },
  {
   "cell_type": "code",
   "execution_count": 8,
   "id": "b15697d7-a86c-4e33-ad92-3a523f30df3e",
   "metadata": {},
   "outputs": [
    {
     "data": {
      "text/plain": [
       "('my', ' name is', ' zain')"
      ]
     },
     "execution_count": 8,
     "metadata": {},
     "output_type": "execute_result"
    }
   ],
   "source": [
    "k=str1,str2,str3\n",
    "k"
   ]
  },
  {
   "cell_type": "code",
   "execution_count": 9,
   "id": "f3cade3b-7626-4ced-83c7-2fac036f4aa8",
   "metadata": {},
   "outputs": [
    {
     "name": "stdout",
     "output_type": "stream",
     "text": [
      "zain is student\n"
     ]
    }
   ],
   "source": [
    "print(\"zain\"+\" is a\",\"student\")"
   ]
  },
  {
   "cell_type": "code",
   "execution_count": 10,
   "id": "5e1d5dfd-35bf-47bc-a405-86707b182cac",
   "metadata": {},
   "outputs": [],
   "source": [
    "#DATA STRUCTURES\n",
    "#1- List\n",
    "#2- Tuple\n",
    "#3- Set\n",
    "#4- Dictionary"
   ]
  },
  {
   "cell_type": "code",
   "execution_count": 11,
   "id": "a99ea4e2-2d34-4f93-8985-adc8ca5da2f1",
   "metadata": {},
   "outputs": [
    {
     "data": {
      "text/plain": [
       "[]"
      ]
     },
     "execution_count": 11,
     "metadata": {},
     "output_type": "execute_result"
    }
   ],
   "source": [
    "#list(represented in '[]' and is mutable)\n",
    "lst=[]\n",
    "lst"
   ]
  },
  {
   "cell_type": "code",
   "execution_count": 12,
   "id": "7218ffb0-05ed-492e-8991-738c5a913bfb",
   "metadata": {},
   "outputs": [
    {
     "data": {
      "text/plain": [
       "list"
      ]
     },
     "execution_count": 12,
     "metadata": {},
     "output_type": "execute_result"
    }
   ],
   "source": [
    "type(lst)"
   ]
  },
  {
   "cell_type": "code",
   "execution_count": 13,
   "id": "664b339b-e398-489a-8e95-9d9e453be6ed",
   "metadata": {},
   "outputs": [
    {
     "data": {
      "text/plain": [
       "['a', 'b', 'c', 'd']"
      ]
     },
     "execution_count": 13,
     "metadata": {},
     "output_type": "execute_result"
    }
   ],
   "source": [
    "lst=['a','b','c','d']\n",
    "lst"
   ]
  },
  {
   "cell_type": "code",
   "execution_count": 15,
   "id": "9f080f4b-4235-4b44-9dd9-81fd7ed5d6ef",
   "metadata": {},
   "outputs": [
    {
     "data": {
      "text/plain": [
       "['a', 'b', 'c', 'd']"
      ]
     },
     "execution_count": 15,
     "metadata": {},
     "output_type": "execute_result"
    }
   ],
   "source": [
    "list2=list(lst)\n",
    "list2"
   ]
  },
  {
   "cell_type": "code",
   "execution_count": 16,
   "id": "c61e9a83-d970-471d-9dc3-a97126f43572",
   "metadata": {},
   "outputs": [
    {
     "data": {
      "text/plain": [
       "['a', 'b', 'c', 'd']"
      ]
     },
     "execution_count": 16,
     "metadata": {},
     "output_type": "execute_result"
    }
   ],
   "source": [
    "#or\n",
    "\n",
    "list3=list2.copy()\n",
    "list3"
   ]
  },
  {
   "cell_type": "code",
   "execution_count": 17,
   "id": "42b9eb53-862a-4333-862d-3531bb8714f0",
   "metadata": {},
   "outputs": [
    {
     "data": {
      "text/plain": [
       "['h', 'u', 'm', 'a', 'n']"
      ]
     },
     "execution_count": 17,
     "metadata": {},
     "output_type": "execute_result"
    }
   ],
   "source": [
    "list('human')"
   ]
  },
  {
   "cell_type": "code",
   "execution_count": 19,
   "id": "09c4943c-1302-4f29-b5e1-809f324734c5",
   "metadata": {},
   "outputs": [
    {
     "ename": "TypeError",
     "evalue": "'int' object is not iterable",
     "output_type": "error",
     "traceback": [
      "\u001b[1;31m---------------------------------------------------------------------------\u001b[0m",
      "\u001b[1;31mTypeError\u001b[0m                                 Traceback (most recent call last)",
      "Cell \u001b[1;32mIn[19], line 2\u001b[0m\n\u001b[0;32m      1\u001b[0m \u001b[38;5;28mlist\u001b[39m(\u001b[38;5;124m'\u001b[39m\u001b[38;5;124m8855\u001b[39m\u001b[38;5;124m'\u001b[39m)\n\u001b[1;32m----> 2\u001b[0m \u001b[38;5;28;43mlist\u001b[39;49m\u001b[43m(\u001b[49m\u001b[38;5;241;43m8855\u001b[39;49m\u001b[43m)\u001b[49m\n",
      "\u001b[1;31mTypeError\u001b[0m: 'int' object is not iterable"
     ]
    }
   ],
   "source": [
    "list('8855')\n",
    "list(8855)\n"
   ]
  },
  {
   "cell_type": "code",
   "execution_count": 29,
   "id": "52ec2d29-ad56-42e4-a3f6-47573e36fd91",
   "metadata": {},
   "outputs": [
    {
     "data": {
      "text/plain": [
       "['mohan']"
      ]
     },
     "execution_count": 29,
     "metadata": {},
     "output_type": "execute_result"
    }
   ],
   "source": [
    "l1=[]\n",
    "l1.append('mohan')\n",
    "l1"
   ]
  },
  {
   "cell_type": "code",
   "execution_count": 30,
   "id": "1653c546-fab4-4788-90ca-b83d29a1ae3b",
   "metadata": {},
   "outputs": [
    {
     "data": {
      "text/plain": [
       "['mohan', 'putin']"
      ]
     },
     "execution_count": 30,
     "metadata": {},
     "output_type": "execute_result"
    }
   ],
   "source": [
    "l1.insert(1,'putin')\n",
    "l1"
   ]
  },
  {
   "cell_type": "code",
   "execution_count": 31,
   "id": "f4714cfd-b717-4a27-af3b-3a7179303cbc",
   "metadata": {},
   "outputs": [
    {
     "name": "stdout",
     "output_type": "stream",
     "text": [
      "10\n",
      "50\n"
     ]
    }
   ],
   "source": [
    "a = [10, 20, 30, 40, 50]\n",
    "\n",
    "print(a[0])    \n",
    "print(a[-1])"
   ]
  },
  {
   "cell_type": "code",
   "execution_count": 32,
   "id": "56152a55-4631-4deb-94a3-db86955d5ef7",
   "metadata": {},
   "outputs": [
    {
     "data": {
      "text/plain": [
       "'mohan'"
      ]
     },
     "execution_count": 32,
     "metadata": {},
     "output_type": "execute_result"
    }
   ],
   "source": [
    "l1[0]"
   ]
  },
  {
   "cell_type": "code",
   "execution_count": 33,
   "id": "f5ea120d-fa30-4d33-ab57-45453b499a76",
   "metadata": {},
   "outputs": [
    {
     "data": {
      "text/plain": [
       "['mohan', 'trump']"
      ]
     },
     "execution_count": 33,
     "metadata": {},
     "output_type": "execute_result"
    }
   ],
   "source": [
    "#replace\n",
    "l1[1]='trump'\n",
    "l1"
   ]
  },
  {
   "cell_type": "code",
   "execution_count": 35,
   "id": "829272b4-2f31-477f-b163-d9183ce9bd79",
   "metadata": {},
   "outputs": [
    {
     "data": {
      "text/plain": [
       "[10, 20, 30, 40, 45]"
      ]
     },
     "execution_count": 35,
     "metadata": {},
     "output_type": "execute_result"
    }
   ],
   "source": [
    "a = [10, 20, 30, 40, 50]\n",
    "a[4]=45\n",
    "a\n"
   ]
  },
  {
   "cell_type": "code",
   "execution_count": 36,
   "id": "1a7d8b27-1164-4aff-b993-cbcec854e0be",
   "metadata": {},
   "outputs": [
    {
     "data": {
      "text/plain": [
       "[20, 30, 40, 45]"
      ]
     },
     "execution_count": 36,
     "metadata": {},
     "output_type": "execute_result"
    }
   ],
   "source": [
    "a[1:]\n"
   ]
  },
  {
   "cell_type": "code",
   "execution_count": 38,
   "id": "81f844b8-fa4b-4704-b4e3-088ef33085b5",
   "metadata": {},
   "outputs": [
    {
     "data": {
      "text/plain": [
       "[20, 30]"
      ]
     },
     "execution_count": 38,
     "metadata": {},
     "output_type": "execute_result"
    }
   ],
   "source": [
    "a[1:3]"
   ]
  },
  {
   "cell_type": "code",
   "execution_count": 39,
   "id": "ed048d3e-fb4b-4eb8-96e7-f79fc8006a2b",
   "metadata": {},
   "outputs": [
    {
     "data": {
      "text/plain": [
       "[10, 20, 30, 40, 45, 50]"
      ]
     },
     "execution_count": 39,
     "metadata": {},
     "output_type": "execute_result"
    }
   ],
   "source": [
    "a+[50]\n"
   ]
  },
  {
   "cell_type": "code",
   "execution_count": 40,
   "id": "ad89aec9-93a1-4fb8-ab37-78647ab05a3b",
   "metadata": {},
   "outputs": [
    {
     "data": {
      "text/plain": [
       "[10, 20, 30, 40, 45, 10, 20, 30, 40, 45, 10, 20, 30, 40, 45]"
      ]
     },
     "execution_count": 40,
     "metadata": {},
     "output_type": "execute_result"
    }
   ],
   "source": [
    "a * 3"
   ]
  },
  {
   "cell_type": "code",
   "execution_count": 41,
   "id": "ced2181b-9bd6-4c79-9904-a69cab500a1e",
   "metadata": {},
   "outputs": [
    {
     "data": {
      "text/plain": [
       "3"
      ]
     },
     "execution_count": 41,
     "metadata": {},
     "output_type": "execute_result"
    }
   ],
   "source": [
    "result=[51,56,89,78,89,45,56,12,12,32,45,32,65,45,89,78,45,56,23,12,4,5,23,23,56,]\n",
    "\n",
    "result.count(12)"
   ]
  },
  {
   "cell_type": "code",
   "execution_count": 42,
   "id": "877288cf-7098-4cf4-82d8-811ce5a9e7de",
   "metadata": {},
   "outputs": [
    {
     "data": {
      "text/plain": [
       "0"
      ]
     },
     "execution_count": 42,
     "metadata": {},
     "output_type": "execute_result"
    }
   ],
   "source": [
    "\n",
    "result.count(2)"
   ]
  },
  {
   "cell_type": "code",
   "execution_count": 45,
   "id": "30a07499-a2e8-4b4a-8001-f36e264d5594",
   "metadata": {},
   "outputs": [
    {
     "data": {
      "text/plain": [
       "['mohan', 'trump']"
      ]
     },
     "execution_count": 45,
     "metadata": {},
     "output_type": "execute_result"
    }
   ],
   "source": [
    "l1"
   ]
  },
  {
   "cell_type": "code",
   "execution_count": 44,
   "id": "eabb48e2-7e52-4f17-9ea3-7eb52b5bfc5a",
   "metadata": {},
   "outputs": [
    {
     "data": {
      "text/plain": [
       "['mohan', 'trump']"
      ]
     },
     "execution_count": 44,
     "metadata": {},
     "output_type": "execute_result"
    }
   ],
   "source": [
    "l1"
   ]
  },
  {
   "cell_type": "code",
   "execution_count": 46,
   "id": "e14f66ce-18f9-4aad-9712-a0254e9a177c",
   "metadata": {},
   "outputs": [],
   "source": [
    "l1.append(['amisha','khushi'])\n"
   ]
  },
  {
   "cell_type": "code",
   "execution_count": 47,
   "id": "b47e4b0c-bd0f-495b-9b60-9e4766fadee0",
   "metadata": {},
   "outputs": [
    {
     "data": {
      "text/plain": [
       "['mohan', 'trump', ['amisha', 'khushi']]"
      ]
     },
     "execution_count": 47,
     "metadata": {},
     "output_type": "execute_result"
    }
   ],
   "source": [
    "l1"
   ]
  },
  {
   "cell_type": "code",
   "execution_count": 48,
   "id": "444e5398-e286-4a29-befe-4a2a0dfa264c",
   "metadata": {},
   "outputs": [],
   "source": [
    "l1.remove(['amisha','khushi'])"
   ]
  },
  {
   "cell_type": "code",
   "execution_count": 49,
   "id": "d330f927-8b2c-4e88-a775-2e86b8259d86",
   "metadata": {},
   "outputs": [
    {
     "data": {
      "text/plain": [
       "['mohan', 'trump']"
      ]
     },
     "execution_count": 49,
     "metadata": {},
     "output_type": "execute_result"
    }
   ],
   "source": [
    "l1"
   ]
  },
  {
   "cell_type": "code",
   "execution_count": 52,
   "id": "351be5b7-878b-4972-9374-ecc5bdc13f57",
   "metadata": {},
   "outputs": [
    {
     "data": {
      "text/plain": [
       "['mohan', 'trump', 'amisha', 'anikka', 'amisha', 'anikka']"
      ]
     },
     "execution_count": 52,
     "metadata": {},
     "output_type": "execute_result"
    }
   ],
   "source": [
    "\n",
    "l1.extend(['amisha','anikka'])\n",
    "l1"
   ]
  },
  {
   "cell_type": "code",
   "execution_count": 55,
   "id": "81057013-4200-4667-b79f-603f831eacb7",
   "metadata": {},
   "outputs": [],
   "source": [
    "l1.remove('amisha')"
   ]
  },
  {
   "cell_type": "code",
   "execution_count": 56,
   "id": "039040c2-431f-47c1-b187-e74598353705",
   "metadata": {},
   "outputs": [
    {
     "data": {
      "text/plain": [
       "['mohan', 'trump', 'anikka', 'amisha', 'anikka']"
      ]
     },
     "execution_count": 56,
     "metadata": {},
     "output_type": "execute_result"
    }
   ],
   "source": [
    "l1"
   ]
  },
  {
   "cell_type": "code",
   "execution_count": 57,
   "id": "2a087e87-8c01-46d1-8ab5-1264d4c66f27",
   "metadata": {},
   "outputs": [
    {
     "data": {
      "text/plain": [
       "'anikka'"
      ]
     },
     "execution_count": 57,
     "metadata": {},
     "output_type": "execute_result"
    }
   ],
   "source": [
    "pop_anikka=l1.pop()\n",
    "pop_anikka"
   ]
  },
  {
   "cell_type": "code",
   "execution_count": 58,
   "id": "f47c1133-52fa-4aff-a671-f08c5df8a32f",
   "metadata": {},
   "outputs": [
    {
     "data": {
      "text/plain": [
       "['mohan', 'trump', 'anikka', 'amisha']"
      ]
     },
     "execution_count": 58,
     "metadata": {},
     "output_type": "execute_result"
    }
   ],
   "source": [
    "l1"
   ]
  },
  {
   "cell_type": "code",
   "execution_count": 59,
   "id": "9eef7d7d-bda4-41f3-b3da-953f018440d5",
   "metadata": {},
   "outputs": [
    {
     "data": {
      "text/plain": [
       "[10, 20, 30, 40, 45]"
      ]
     },
     "execution_count": 59,
     "metadata": {},
     "output_type": "execute_result"
    }
   ],
   "source": [
    "a"
   ]
  },
  {
   "cell_type": "code",
   "execution_count": 60,
   "id": "fc49884b-2637-4bd4-9d14-1f2b93d397c2",
   "metadata": {},
   "outputs": [],
   "source": [
    "a.reverse()"
   ]
  },
  {
   "cell_type": "code",
   "execution_count": 61,
   "id": "50169a0f-8dde-470e-acc0-b4d54d6c144a",
   "metadata": {},
   "outputs": [
    {
     "data": {
      "text/plain": [
       "[45, 40, 30, 20, 10]"
      ]
     },
     "execution_count": 61,
     "metadata": {},
     "output_type": "execute_result"
    }
   ],
   "source": [
    "a"
   ]
  },
  {
   "cell_type": "code",
   "execution_count": 62,
   "id": "b6502c0f-373f-4f0c-968e-fab4674fb681",
   "metadata": {},
   "outputs": [
    {
     "data": {
      "text/plain": [
       "[10, 20, 30, 40, 45]"
      ]
     },
     "execution_count": 62,
     "metadata": {},
     "output_type": "execute_result"
    }
   ],
   "source": [
    "a.sort()\n",
    "a"
   ]
  },
  {
   "cell_type": "code",
   "execution_count": 63,
   "id": "78fcb9e5-578b-4e4b-a05e-2d2984778a11",
   "metadata": {},
   "outputs": [
    {
     "data": {
      "text/plain": [
       "[45, 40, 30, 20, 10]"
      ]
     },
     "execution_count": 63,
     "metadata": {},
     "output_type": "execute_result"
    }
   ],
   "source": [
    "a.sort(reverse=True)\n",
    "a"
   ]
  },
  {
   "cell_type": "code",
   "execution_count": null,
   "id": "0e4a7e55-8918-47cb-a79c-f34a10dde6c9",
   "metadata": {},
   "outputs": [],
   "source": []
  }
 ],
 "metadata": {
  "kernelspec": {
   "display_name": "Python 3 (ipykernel)",
   "language": "python",
   "name": "python3"
  },
  "language_info": {
   "codemirror_mode": {
    "name": "ipython",
    "version": 3
   },
   "file_extension": ".py",
   "mimetype": "text/x-python",
   "name": "python",
   "nbconvert_exporter": "python",
   "pygments_lexer": "ipython3",
   "version": "3.11.4"
  }
 },
 "nbformat": 4,
 "nbformat_minor": 5
}
