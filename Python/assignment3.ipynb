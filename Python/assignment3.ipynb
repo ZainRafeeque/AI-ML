{
 "cells": [
  {
   "cell_type": "code",
   "execution_count": 2,
   "id": "d6a5375c-fd8a-42ac-b416-3c0996784df0",
   "metadata": {},
   "outputs": [
    {
     "name": "stdout",
     "output_type": "stream",
     "text": [
      "Result: 11\n"
     ]
    }
   ],
   "source": [
    "# 1. Write a Python program to evaluate the expression `5 + 3 * 2` and print the result.\n",
    "# Evaluate the expression 5 + 3 * 2\n",
    "result = 5 + 3 * 2\n",
    "\n",
    "# Print the result\n",
    "print(\"Result:\", result)\n"
   ]
  },
  {
   "cell_type": "code",
   "execution_count": 3,
   "id": "30b22e20-408b-4772-bbf4-13041a1d5e4c",
   "metadata": {},
   "outputs": [
    {
     "name": "stdout",
     "output_type": "stream",
     "text": [
      "Result: 13\n"
     ]
    }
   ],
   "source": [
    "#2. Write a program that calculates the result of `2 ** 3 + 5`\n",
    "# Calculate the expression 2 ** 3 + 5\n",
    "result = 2 ** 3 + 5\n",
    "\n",
    "# Print the result\n",
    "print(\"Result:\", result)"
   ]
  },
  {
   "cell_type": "code",
   "execution_count": 4,
   "id": "e855aa27-8adc-4e0f-9596-6bb1a5f9ea3c",
   "metadata": {},
   "outputs": [
    {
     "name": "stdout",
     "output_type": "stream",
     "text": [
      "Result: 42\n"
     ]
    }
   ],
   "source": [
    "# 3. Create a program that calculates the result of the expression `(10 - 3) * (2 + 4)`.\n",
    "# Calculate the expression (10 - 3) * (2 + 4)\n",
    "result = (10 - 3) * (2 + 4)\n",
    "\n",
    "# Print the result\n",
    "print(\"Result:\", result)"
   ]
  },
  {
   "cell_type": "code",
   "execution_count": 5,
   "id": "e8080cd1-9473-4a01-83a5-bc7982bb8828",
   "metadata": {},
   "outputs": [
    {
     "name": "stdout",
     "output_type": "stream",
     "text": [
      "Result: 3\n"
     ]
    }
   ],
   "source": [
    "# 4. Write a program that calculates `15 // 4` and prints the result.\n",
    "# Calculate 15 // 4\n",
    "result = 15 // 4\n",
    "\n",
    "# Print the result\n",
    "print(\"Result:\", result)"
   ]
  },
  {
   "cell_type": "code",
   "execution_count": 6,
   "id": "bf22d529-c96a-45d4-a0b1-188fbe3833e0",
   "metadata": {},
   "outputs": [
    {
     "name": "stdout",
     "output_type": "stream",
     "text": [
      "Remainder: 3\n"
     ]
    }
   ],
   "source": [
    "#5. Write a Python code to find the remainder when dividing 15 by 4 (`15 % 4`)\n",
    "# Find the remainder when dividing 15 by 4\n",
    "remainder = 15 % 4\n",
    "\n",
    "# Print the remainder\n",
    "print(\"Remainder:\", remainder)"
   ]
  },
  {
   "cell_type": "code",
   "execution_count": 7,
   "id": "e3bf5082-ea2f-4546-a55a-58e4c86b071f",
   "metadata": {},
   "outputs": [
    {
     "name": "stdout",
     "output_type": "stream",
     "text": [
      "Type of x: <class 'int'>\n"
     ]
    }
   ],
   "source": [
    "# 6. Create a variable `x` and assign it the value 42. Print its type using `type()`\n",
    "# Assign the value 42 to the variable x\n",
    "x = 42\n",
    "\n",
    "# Print the type of x\n",
    "print(\"Type of x:\", type(x))"
   ]
  },
  {
   "cell_type": "code",
   "execution_count": 8,
   "id": "c435d7b4-f552-4b57-afac-b682401e81c3",
   "metadata": {},
   "outputs": [
    {
     "name": "stdout",
     "output_type": "stream",
     "text": [
      "Type of fruits: <class 'list'>\n"
     ]
    }
   ],
   "source": [
    "# 7. Create a list `fruits = ['apple', 'banana', 'cherry']`. Print the type of this list.\n",
    "# Create a list of fruits\n",
    "fruits = ['apple', 'banana', 'cherry']\n",
    "\n",
    "# Print the type of the list\n",
    "print(\"Type of fruits:\", type(fruits))"
   ]
  },
  {
   "cell_type": "code",
   "execution_count": 9,
   "id": "0b31d7cc-8051-445f-b90a-faf5099b8b91",
   "metadata": {},
   "outputs": [
    {
     "name": "stdout",
     "output_type": "stream",
     "text": [
      "Type of is_active: <class 'bool'>\n"
     ]
    }
   ],
   "source": [
    "# 8. Create a variable `is_active = True`. Print the type of the variable\n",
    "# Create a boolean variable\n",
    "is_active = True\n",
    "\n",
    "# Print the type of the variable\n",
    "print(\"Type of is_active:\", type(is_active))"
   ]
  },
  {
   "cell_type": "code",
   "execution_count": 10,
   "id": "aa20d2e9-054b-40de-abbe-9ac75e45a48c",
   "metadata": {},
   "outputs": [
    {
     "name": "stdout",
     "output_type": "stream",
     "text": [
      "Type of price: <class 'float'>\n"
     ]
    }
   ],
   "source": [
    "# 9. Create a variable `price = 3.14`. Print its type.\n",
    "\n",
    "price = 3.14\n",
    "print(\"Type of price:\", type(price))"
   ]
  },
  {
   "cell_type": "code",
   "execution_count": 12,
   "id": "d3671d0c-580f-4a48-8837-0bb6e96bef28",
   "metadata": {},
   "outputs": [
    {
     "name": "stdout",
     "output_type": "stream",
     "text": [
      "Type of string: <class 'str'>\n"
     ]
    }
   ],
   "source": [
    "#10. Write a program to print the type of the string `'Hello World'`\n",
    "\n",
    "string = 'Hello World'\n",
    "\n",
    "print(\"Type of string:\", type(string))"
   ]
  },
  {
   "cell_type": "code",
   "execution_count": 13,
   "id": "bf91cf6f-dbea-4947-af44-94d927bf130b",
   "metadata": {},
   "outputs": [
    {
     "name": "stdout",
     "output_type": "stream",
     "text": [
      "['Mango', 'Apple', 'Banana']\n"
     ]
    }
   ],
   "source": [
    "# 11. Create a list of your 3 favorite fruits and print it.\n",
    "\n",
    "favorite_fruits = [\"Mango\", \"Apple\", \"Banana\"]\n",
    "\n",
    "print(favorite_fruits)"
   ]
  },
  {
   "cell_type": "code",
   "execution_count": 15,
   "id": "9887a427-186f-4576-a41a-6132687adfa9",
   "metadata": {},
   "outputs": [
    {
     "name": "stdout",
     "output_type": "stream",
     "text": [
      "['apple', 'banana', 'cherry']\n"
     ]
    },
    {
     "data": {
      "text/plain": [
       "list"
      ]
     },
     "execution_count": 15,
     "metadata": {},
     "output_type": "execute_result"
    }
   ],
   "source": [
    "# 12. Convert a tuple `('apple', 'banana', 'cherry')` into a list. Print the new list\n",
    "# Create a tuple\n",
    "my_tuple = ('apple', 'banana', 'cherry')\n",
    "\n",
    "# Convert the tuple to a list\n",
    "my_list = list(my_tuple)\n",
    "\n",
    "# Print the new list\n",
    "print(my_list)\n",
    "type(my_list)"
   ]
  },
  {
   "cell_type": "code",
   "execution_count": 16,
   "id": "f55817c5-ee55-4c4e-b403-544113f448d0",
   "metadata": {},
   "outputs": [
    {
     "name": "stdout",
     "output_type": "stream",
     "text": [
      "First element: 10\n"
     ]
    }
   ],
   "source": [
    "#13. Create a list `my_list = [10, 20, 30]`. Access and print the first element of the list.\n",
    "\n",
    "my_list = [10, 20, 30]\n",
    "first_element = my_list[0]\n",
    "print(\"First element:\", first_element)"
   ]
  },
  {
   "cell_type": "code",
   "execution_count": 18,
   "id": "536846a1-3d4c-45ed-8188-b85e8c974ada",
   "metadata": {},
   "outputs": [
    {
     "name": "stdout",
     "output_type": "stream",
     "text": [
      "Length of the list: 3\n"
     ]
    }
   ],
   "source": [
    "# 14. Find the length of the list `[10, 20, 30]` and print it.\n",
    "# Create a list\n",
    "my_list = [10, 20, 30]\n",
    "\n",
    "# Find and print the length of the list\n",
    "length = len(my_list)\n",
    "print(\"Length of the list:\", length)"
   ]
  },
  {
   "cell_type": "code",
   "execution_count": 19,
   "id": "fd6b1702-f5f7-4f67-9574-454fd8d2f84c",
   "metadata": {},
   "outputs": [
    {
     "name": "stdout",
     "output_type": "stream",
     "text": [
      "[10, 20, 30, 40]\n"
     ]
    }
   ],
   "source": [
    "#15. Add the element `40` to the list `my_list = [10, 20, 30]` and print the updated list.\n",
    "# Create a list\n",
    "my_list = [10, 20, 30]\n",
    "\n",
    "# Add the element 40 to the end of the list\n",
    "my_list.append(40)\n",
    "\n",
    "# Print the updated list\n",
    "print(my_list)"
   ]
  },
  {
   "cell_type": "code",
   "execution_count": 20,
   "id": "dc7302ac-888c-4e07-b6b7-c7546d876df3",
   "metadata": {},
   "outputs": [
    {
     "name": "stdout",
     "output_type": "stream",
     "text": [
      "1\n",
      "2\n",
      "3\n",
      "4\n",
      "5\n"
     ]
    }
   ],
   "source": [
    "# 16. Write a `for` loop to print numbers from 1 to 5.\n",
    "# Print numbers from 1 to 5\n",
    "for i in range(1, 6):\n",
    "    print(i)"
   ]
  },
  {
   "cell_type": "code",
   "execution_count": 21,
   "id": "6edf27fa-223f-44d4-8f8c-7865fca01b56",
   "metadata": {},
   "outputs": [
    {
     "name": "stdout",
     "output_type": "stream",
     "text": [
      "3\n",
      "4\n",
      "5\n"
     ]
    }
   ],
   "source": [
    "#17. Write a `for` loop that prints numbers from 3 to 5\n",
    "# Print numbers from 3 to 5\n",
    "for i in range(3, 6):\n",
    "    print(i)\n",
    "    "
   ]
  },
  {
   "cell_type": "code",
   "execution_count": 22,
   "id": "bfc0af52-617a-44df-a219-b7ef2fd8d9c5",
   "metadata": {},
   "outputs": [
    {
     "name": "stdout",
     "output_type": "stream",
     "text": [
      "apple\n",
      "banana\n",
      "cherry\n"
     ]
    }
   ],
   "source": [
    "#18. Write a `for` loop to iterate over a list `['apple', 'banana', 'cherry']` and print each element.\n",
    "\n",
    "fruits = ['apple', 'banana', 'cherry']\n",
    "\n",
    "for fruit in fruits:\n",
    "    print(fruit)\n",
    "    "
   ]
  },
  {
   "cell_type": "code",
   "execution_count": 23,
   "id": "a8ce523e-80ad-475d-b81b-6ca5feadc5e8",
   "metadata": {},
   "outputs": [
    {
     "name": "stdout",
     "output_type": "stream",
     "text": [
      "1\n",
      "4\n",
      "9\n",
      "16\n"
     ]
    }
   ],
   "source": [
    "# 19. Write a `for` loop to print the squares of numbers from 1 to 4\n",
    "# Print the squares of numbers from 1 to 4\n",
    "for i in range(1, 5):\n",
    "    square = i ** 2\n",
    "    print(square)"
   ]
  },
  {
   "cell_type": "code",
   "execution_count": 24,
   "id": "4e290d36-e41f-4229-9ac1-ccc204dbef10",
   "metadata": {},
   "outputs": [
    {
     "name": "stdout",
     "output_type": "stream",
     "text": [
      "0\n",
      "2\n",
      "4\n",
      "6\n",
      "8\n"
     ]
    }
   ],
   "source": [
    "#20. Write a `for` loop that prints `i * 2` for `i` in the range of 5.\n",
    "# Print i * 2 for i in the range of 5\n",
    "for i in range(5):\n",
    "    print(i * 2)"
   ]
  },
  {
   "cell_type": "code",
   "execution_count": 25,
   "id": "83cb5a94-601e-41ab-b4c2-d932096e0157",
   "metadata": {},
   "outputs": [
    {
     "name": "stdout",
     "output_type": "stream",
     "text": [
      "1\n",
      "2\n",
      "3\n",
      "4\n",
      "5\n"
     ]
    }
   ],
   "source": [
    "# 21. Write a `while` loop that prints numbers from 1 to 5.\n",
    "\n",
    "i = 1\n",
    "\n",
    "while i <= 5:\n",
    "    print(i)\n",
    "    i += 1"
   ]
  },
  {
   "cell_type": "code",
   "execution_count": 26,
   "id": "0d7a2f43-ba84-48d8-a4e9-812cc6d81084",
   "metadata": {},
   "outputs": [
    {
     "name": "stdout",
     "output_type": "stream",
     "text": [
      "0\n",
      "1\n",
      "2\n",
      "3\n"
     ]
    }
   ],
   "source": [
    "# 22. Create a `while` loop that prints the numbers from 0 to 3\n",
    "\n",
    "i = 0\n",
    "\n",
    "while i <= 3:\n",
    "    print(i)\n",
    "    i += 1"
   ]
  },
  {
   "cell_type": "code",
   "execution_count": 27,
   "id": "b5a2af13-a984-4cdf-ae93-732411ae3c35",
   "metadata": {},
   "outputs": [
    {
     "name": "stdout",
     "output_type": "stream",
     "text": [
      "Sum of numbers from 1 to 10: 55\n"
     ]
    }
   ],
   "source": [
    "# 23. Write a `while` loop that calculates and prints the sum of numbers from 1 to 10\n",
    "\n",
    "i = 1\n",
    "sum = 0\n",
    "\n",
    "while i <= 10:\n",
    "    sum += i\n",
    "    i += 1\n",
    "\n",
    "print(\"Sum of numbers from 1 to 10:\", sum)"
   ]
  },
  {
   "cell_type": "code",
   "execution_count": 28,
   "id": "32a11d14-4d90-4f03-93fa-6e2ce5dbd6af",
   "metadata": {},
   "outputs": [
    {
     "name": "stdout",
     "output_type": "stream",
     "text": [
      "Product of numbers from 1 to 4: 24\n"
     ]
    }
   ],
   "source": [
    "# 24. Create a `while` loop that multiplies numbers from 1 to 4 and prints the result.\n",
    "\n",
    "i = 1\n",
    "product = 1\n",
    "\n",
    "while i <= 4:\n",
    "    product *= i\n",
    "    i += 1\n",
    "\n",
    "print(\"Product of numbers from 1 to 4:\", product)"
   ]
  },
  {
   "cell_type": "code",
   "execution_count": 30,
   "id": "84f9e211-be8b-4aeb-9399-f7ef28fefb6b",
   "metadata": {},
   "outputs": [
    {
     "name": "stdout",
     "output_type": "stream",
     "text": [
      "10\n",
      "9\n",
      "8\n",
      "7\n",
      "6\n",
      "5\n",
      "4\n",
      "3\n",
      "2\n",
      "1\n"
     ]
    }
   ],
   "source": [
    "# 25. Write a `while` loop that prints numbers from 10 to 1, decrementing by 1 each time.\n",
    "\n",
    "i = 10\n",
    "\n",
    "while i >= 1:\n",
    "    print(i)\n",
    "    i = i - 1"
   ]
  },
  {
   "cell_type": "code",
   "execution_count": 31,
   "id": "17445558-520c-40fa-a3b6-58db843238f4",
   "metadata": {},
   "outputs": [
    {
     "name": "stdin",
     "output_type": "stream",
     "text": [
      "Enter a number:  23\n"
     ]
    },
    {
     "name": "stdout",
     "output_type": "stream",
     "text": [
      "The number is positive.\n"
     ]
    }
   ],
   "source": [
    "#. 26. Write a program that checks if a number is positive, negative, or zero.\n",
    "\n",
    "number = float(input(\"Enter a number: \"))\n",
    "\n",
    "if number > 0:\n",
    "    print(\"The number is positive.\")\n",
    "elif number < 0:\n",
    "    print(\"The number is negative.\")\n",
    "else:\n",
    "    print(\"The number is zero.\")"
   ]
  },
  {
   "cell_type": "code",
   "execution_count": 32,
   "id": "c3f21d49-436f-4ac6-b350-c8662417b2cc",
   "metadata": {},
   "outputs": [
    {
     "name": "stdin",
     "output_type": "stream",
     "text": [
      "Enter a number:  24\n"
     ]
    },
    {
     "name": "stdout",
     "output_type": "stream",
     "text": [
      "The number is even.\n"
     ]
    }
   ],
   "source": [
    "#27. Write a program that checks if a number is even or odd using `if-else`.\n",
    "number = int(input(\"Enter a number: \"))\n",
    "\n",
    "if number % 2 == 0:\n",
    "    print(\"The number is even.\")\n",
    "else:\n",
    "    print(\"The number is odd.\")"
   ]
  },
  {
   "cell_type": "code",
   "execution_count": 33,
   "id": "fa8ab03b-220e-483a-b01d-a7c117d48d6d",
   "metadata": {},
   "outputs": [
    {
     "name": "stdin",
     "output_type": "stream",
     "text": [
      "Enter a number:  35\n"
     ]
    },
    {
     "name": "stdout",
     "output_type": "stream",
     "text": [
      "Greater\n"
     ]
    }
   ],
   "source": [
    "# 28. Write a program that checks if a number is greater than 10 and prints 'Greater', otherwise prints 'Smaller'.\n",
    "# Get input from the user\n",
    "number = int(input(\"Enter a number: \"))\n",
    "\n",
    "# Check if the number is greater than 10\n",
    "if number > 10:\n",
    "    print(\"Greater\")\n",
    "else:\n",
    "    print(\"Smaller\")"
   ]
  },
  {
   "cell_type": "code",
   "execution_count": 34,
   "id": "b51ec245-6de2-4770-9ef2-c3372d73ffc0",
   "metadata": {},
   "outputs": [
    {
     "name": "stdin",
     "output_type": "stream",
     "text": [
      "Enter your score:  56\n"
     ]
    },
    {
     "name": "stdout",
     "output_type": "stream",
     "text": [
      "Your grade is: C\n"
     ]
    }
   ],
   "source": [
    "# 29. Write a program that prints the grade based on a score: A (90-100), B (70-89), C (50-69), and D (0-49).\n",
    "score = int(input(\"Enter your score: \"))\n",
    "\n",
    "\n",
    "if score >= 90:\n",
    "    grade = \"A\"\n",
    "elif score >= 70:\n",
    "    grade = \"B\"\n",
    "elif score >= 50:\n",
    "    grade = \"C\"\n",
    "else:\n",
    "    grade = \"D\"\n",
    "\n",
    "# Print the grade\n",
    "print(\"Your grade is:\", grade)"
   ]
  },
  {
   "cell_type": "code",
   "execution_count": 35,
   "id": "cc54c3a5-48d6-4c9b-a675-e4eb543799f1",
   "metadata": {},
   "outputs": [
    {
     "name": "stdin",
     "output_type": "stream",
     "text": [
      "Enter a number:  50\n"
     ]
    },
    {
     "name": "stdout",
     "output_type": "stream",
     "text": [
      "Divisible\n"
     ]
    }
   ],
   "source": [
    "# 30. Write a program that checks if a number is divisible by 5 and prints 'Divisible' or 'Not Divisible'.\n",
    "\n",
    "number = int(input(\"Enter a number: \"))\n",
    "\n",
    "if number % 5 == 0:\n",
    "    print(\"Divisible\")\n",
    "else:\n",
    "    print(\"Not Divisible\")"
   ]
  },
  {
   "cell_type": "code",
   "execution_count": 37,
   "id": "45ab1db6-5f5a-4c00-afbb-78812d71f180",
   "metadata": {},
   "outputs": [
    {
     "name": "stdin",
     "output_type": "stream",
     "text": [
      "Enter the first number:  4\n",
      "Enter the second number:  7\n"
     ]
    },
    {
     "name": "stdout",
     "output_type": "stream",
     "text": [
      "The sum of 4.0 and 7.0 is: 11.0\n"
     ]
    }
   ],
   "source": [
    "# 31. Write a function `add_numbers(a, b)` that returns the sum of two numbers.\n",
    "def add_numbers(a, b):\n",
    "    sum = a + b\n",
    "    return sum\n",
    "\n",
    "num1 = float(input(\"Enter the first number: \"))\n",
    "num2 = float(input(\"Enter the second number: \"))\n",
    "\n",
    "result = add_numbers(num1, num2)\n",
    "print(\"The sum of\", num1, \"and\", num2, \"is:\", result)"
   ]
  },
  {
   "cell_type": "code",
   "execution_count": 39,
   "id": "26dd48e4-b9d5-42a2-8d0b-4565c05c27a1",
   "metadata": {},
   "outputs": [
    {
     "name": "stdin",
     "output_type": "stream",
     "text": [
      "Enter a string:  zain\n"
     ]
    },
    {
     "name": "stdout",
     "output_type": "stream",
     "text": [
      "iaz\n"
     ]
    }
   ],
   "source": [
    "# 32. Write a function that takes a string as input and prints it in reverse order.\n",
    "def reverse_string(string):\n",
    "    reversed_string = string[::-1]\n",
    "    print(reversed_string)\n",
    "\n",
    "input_string = input(\"Enter a string: \")\n",
    "\n",
    "\n",
    "reverse_string(input_string)"
   ]
  },
  {
   "cell_type": "code",
   "execution_count": 40,
   "id": "d3feb9d7-cd7b-477f-bdc2-eff373eb76d7",
   "metadata": {},
   "outputs": [
    {
     "name": "stdin",
     "output_type": "stream",
     "text": [
      "Enter the first number:  45\n",
      "Enter the second number:  34\n",
      "Enter the third number:  76\n"
     ]
    },
    {
     "name": "stdout",
     "output_type": "stream",
     "text": [
      "The maximum number is: 76.0\n"
     ]
    }
   ],
   "source": [
    "# 33. Write a function that returns the maximum of three numbers.\n",
    "def maximum(a, b, c):\n",
    "    if a >= b and a >= c:\n",
    "        return a\n",
    "    elif b >= a and b >= c:\n",
    "        return b\n",
    "    else:\n",
    "        return c\n",
    "\n",
    "num1 = float(input(\"Enter the first number: \"))\n",
    "num2 = float(input(\"Enter the second number: \"))\n",
    "num3 = float(input(\"Enter the third number: \"))\n",
    "\n",
    "max_num = maximum(num1, num2, num3)\n",
    "print(\"The maximum number is:\", max_num)"
   ]
  },
  {
   "cell_type": "code",
   "execution_count": 41,
   "id": "a9b7b67e-2e9c-4d26-b4b0-d74de3c4bc12",
   "metadata": {},
   "outputs": [
    {
     "name": "stdin",
     "output_type": "stream",
     "text": [
      "Enter a  integer:  45\n"
     ]
    },
    {
     "name": "stdout",
     "output_type": "stream",
     "text": [
      "The factorial of 45 is 119622220865480194561963161495657715064383733760000000000\n"
     ]
    }
   ],
   "source": [
    "#34. Write a function that calculates the factorial of a number using a loop\n",
    "def factorial(n):\n",
    "  if n < 0:\n",
    "    raise ValueError(\"Factorial is not defined for negative numbers.\")\n",
    "  elif n == 0:\n",
    "    return 1\n",
    "  else:\n",
    "    factorial = 1\n",
    "    for i in range(1, n + 1):\n",
    "      factorial *= i\n",
    "    return factorial\n",
    "\n",
    "\n",
    "number = int(input(\"Enter a  integer: \"))\n",
    "\n",
    "\n",
    "result = factorial(number)\n",
    "print(\"The factorial of\", number, \"is\", result)"
   ]
  },
  {
   "cell_type": "code",
   "execution_count": 42,
   "id": "09b53545-b775-491c-b5a0-a571c30e4096",
   "metadata": {},
   "outputs": [
    {
     "name": "stdin",
     "output_type": "stream",
     "text": [
      "Enter the first number:  3\n",
      "Enter the second number:  6\n"
     ]
    },
    {
     "name": "stdout",
     "output_type": "stream",
     "text": [
      "The product of 3.0 and 6.0 is: 18.0\n"
     ]
    }
   ],
   "source": [
    "#35. Write a function `multiply(a, b)` that returns the product of two numbers and prints the result.\n",
    "def multiply(a, b):\n",
    "  product = a * b\n",
    "  print(\"The product of\", a, \"and\", b, \"is:\", product)\n",
    "\n",
    "num1 = float(input(\"Enter the first number: \"))\n",
    "num2 = float(input(\"Enter the second number: \"))\n",
    "\n",
    "multiply(num1, num2)"
   ]
  },
  {
   "cell_type": "code",
   "execution_count": 43,
   "id": "ec814038-63c3-409e-8f96-55241bf29b9a",
   "metadata": {},
   "outputs": [
    {
     "name": "stdin",
     "output_type": "stream",
     "text": [
      "Enter the first number:  2\n",
      "Enter the second number:  5\n"
     ]
    },
    {
     "name": "stdout",
     "output_type": "stream",
     "text": [
      "7.0\n"
     ]
    }
   ],
   "source": [
    "# 36. Write a lambda function that adds two numbers and prints the result\n",
    "\n",
    "add = lambda x, y: print(x + y)\n",
    "\n",
    "\n",
    "num1 = float(input(\"Enter the first number: \"))\n",
    "num2 = float(input(\"Enter the second number: \"))\n",
    "\n",
    "\n",
    "add(num1, num2)"
   ]
  },
  {
   "cell_type": "code",
   "execution_count": 44,
   "id": "16dafba5-8f2a-4671-b2a0-f7d28302cf80",
   "metadata": {},
   "outputs": [
    {
     "name": "stdin",
     "output_type": "stream",
     "text": [
      "Enter a number:  4\n"
     ]
    },
    {
     "name": "stdout",
     "output_type": "stream",
     "text": [
      "16\n"
     ]
    }
   ],
   "source": [
    "#37. Use a lambda function to square a number and print the result\n",
    "\n",
    "square = lambda x: print(x**2)\n",
    "\n",
    "\n",
    "number = int(input(\"Enter a number: \"))\n",
    "\n",
    "square(number)"
   ]
  },
  {
   "cell_type": "code",
   "execution_count": 45,
   "id": "ac5c87d8-b740-4cca-83af-04e4a4885b8c",
   "metadata": {},
   "outputs": [
    {
     "name": "stdout",
     "output_type": "stream",
     "text": [
      "Cube of 3: 27\n"
     ]
    }
   ],
   "source": [
    "#38. Write a lambda function to find the cube of a number and call it with the value `3`\n",
    "\n",
    "cube = lambda x: x**3\n",
    "\n",
    "\n",
    "result = cube(3)\n",
    "print(\"Cube of 3:\", result)"
   ]
  },
  {
   "cell_type": "code",
   "execution_count": 46,
   "id": "f5d88fb5-dc08-46ea-ac44-efefc1eb8ec8",
   "metadata": {},
   "outputs": [
    {
     "name": "stdout",
     "output_type": "stream",
     "text": [
      "[2, 4, 6]\n"
     ]
    }
   ],
   "source": [
    "# 39. Write a lambda function that filters even numbers from the list `[1, 2, 3, 4, 5, 6]`\n",
    "\n",
    "numbers = [1, 2, 3, 4, 5, 6]\n",
    "\n",
    "\n",
    "even_numbers = list(filter(lambda x: x % 2 == 0, numbers))\n",
    "\n",
    "print(even_numbers)"
   ]
  },
  {
   "cell_type": "code",
   "execution_count": 47,
   "id": "382c17e0-0ea1-4174-a7a2-045a782e83af",
   "metadata": {},
   "outputs": [
    {
     "name": "stdin",
     "output_type": "stream",
     "text": [
      "Enter a number:  45\n"
     ]
    },
    {
     "name": "stdout",
     "output_type": "stream",
     "text": [
      "Is the number positive? True\n"
     ]
    }
   ],
   "source": [
    "#40. Write a lambda function to check if a number is positive and return `True` or `False`.\n",
    "\n",
    "is_positive = lambda x: x > 0\n",
    "\n",
    "\n",
    "number = float(input(\"Enter a number: \"))\n",
    "\n",
    "\n",
    "result = is_positive(number)\n",
    "print(\"Is the number positive?\", result)"
   ]
  },
  {
   "cell_type": "code",
   "execution_count": 48,
   "id": "7ca7da24-b529-4636-8f9b-13368861660a",
   "metadata": {},
   "outputs": [
    {
     "name": "stdout",
     "output_type": "stream",
     "text": [
      "[2, 4, 6, 8]\n"
     ]
    }
   ],
   "source": [
    "# 41. Write a program that multiplies each number in the list `[1, 2, 3, 4]` by 2 using `map()`.\n",
    "\n",
    "numbers = [1, 2, 3, 4]\n",
    "\n",
    "\n",
    "doubled_numbers = list(map(lambda x: x * 2, numbers))\n",
    "\n",
    "\n",
    "print(doubled_numbers)"
   ]
  },
  {
   "cell_type": "code",
   "execution_count": 49,
   "id": "ba98c494-d12a-42af-a088-57d6df32932a",
   "metadata": {},
   "outputs": [
    {
     "name": "stdout",
     "output_type": "stream",
     "text": [
      "[1, 4, 9, 16, 25]\n"
     ]
    }
   ],
   "source": [
    "#42. Use `map()` to square each number in the list `[1, 2, 3, 4, 5]` and print the result\n",
    "\n",
    "numbers = [1, 2, 3, 4, 5]\n",
    "\n",
    "\n",
    "squared_numbers = list(map(lambda x: x**2, numbers))\n",
    "\n",
    "# Print the squared numbers\n",
    "print(squared_numbers)"
   ]
  },
  {
   "cell_type": "code",
   "execution_count": 50,
   "id": "9a8878c8-b724-4640-833e-a565fe36fe4b",
   "metadata": {},
   "outputs": [
    {
     "name": "stdout",
     "output_type": "stream",
     "text": [
      "[1, 2, 3]\n"
     ]
    }
   ],
   "source": [
    "# 43. Write a program that uses `map()` to convert a list of strings `['1', '2', '3']` into a list of integers.\n",
    "# Create a list of strings\n",
    "strings = ['1', '2', '3']\n",
    "\n",
    "# Convert strings to integers using map()\n",
    "integers = list(map(int, strings))\n",
    "\n",
    "# Print the list of integers\n",
    "print(integers)"
   ]
  },
  {
   "cell_type": "code",
   "execution_count": 52,
   "id": "7764d113-499b-432a-9cea-036afe939376",
   "metadata": {},
   "outputs": [
    {
     "name": "stdout",
     "output_type": "stream",
     "text": [
      "[1, 2, 3]\n"
     ]
    }
   ],
   "source": [
    "#45. Write a program that uses `map()` to capitalize each word in the list `['hello', 'world']`\n",
    "# Create a list of strings\n",
    "\n",
    "strings = ['1', '2', '3']\n",
    "\n",
    "# Convert strings to integers using map()\n",
    "integers = list(map(int, strings))\n",
    "\n",
    "# Print the list of integers\n",
    "print(integers)"
   ]
  },
  {
   "cell_type": "code",
   "execution_count": 53,
   "id": "19fdc5fe-62cc-42aa-931d-32836cc8dff7",
   "metadata": {},
   "outputs": [
    {
     "name": "stdout",
     "output_type": "stream",
     "text": [
      "[2, 4, 6]\n"
     ]
    }
   ],
   "source": [
    "# 46. Write a program that uses `filter()` to get only the even numbers from the list `[1, 2, 3, 4, 5, 6]`\n",
    "# Create a list of numbers\n",
    "numbers = [1, 2, 3, 4, 5, 6]\n",
    "\n",
    "# Filter even numbers using filter()\n",
    "even_numbers = list(filter(lambda x: x % 2 == 0, numbers))\n",
    "\n",
    "# Print the filtered even numbers\n",
    "print(even_numbers)"
   ]
  },
  {
   "cell_type": "code",
   "execution_count": 54,
   "id": "14ed0e5c-b563-4537-9bca-5cb12aaec46f",
   "metadata": {},
   "outputs": [
    {
     "name": "stdout",
     "output_type": "stream",
     "text": [
      "[4, 5]\n"
     ]
    }
   ],
   "source": [
    "# 47. Write a program that filters numbers greater than 3 from the list `[1, 2, 3, 4, 5]` using `filter()`.\n",
    "# Create a list of numbers\n",
    "numbers = [1, 2, 3, 4, 5]\n",
    "\n",
    "# Filter numbers greater than 3 using filter()\n",
    "filtered_numbers = list(filter(lambda x: x > 3, numbers))\n",
    "\n",
    "# Print the filtered numbers\n",
    "print(filtered_numbers)"
   ]
  },
  {
   "cell_type": "code",
   "execution_count": 55,
   "id": "644c95b3-4583-43b7-95a6-f2552a8c8fc5",
   "metadata": {},
   "outputs": [
    {
     "name": "stdout",
     "output_type": "stream",
     "text": [
      "['Jack', 'Alice']\n"
     ]
    }
   ],
   "source": [
    "# 48. Use `filter()` to get all names longer than 3 characters from the list `['Tom', 'Jack', 'Bob', 'Alice']`.\n",
    "# Create a list of names\n",
    "names = ['Tom', 'Jack', 'Bob', 'Alice']\n",
    "\n",
    "# Filter names longer than 3 characters using filter()\n",
    "long_names = list(filter(lambda name: len(name) > 3, names))\n",
    "\n",
    "# Print the filtered names\n",
    "print(long_names)"
   ]
  },
  {
   "cell_type": "code",
   "execution_count": 56,
   "id": "034902cd-b5a6-438a-bf45-01ab31e0fba4",
   "metadata": {},
   "outputs": [
    {
     "name": "stdout",
     "output_type": "stream",
     "text": [
      "[3, 4]\n"
     ]
    }
   ],
   "source": [
    "# 49. Write a program that filters out negative numbers from the list `[-1, -2, 3, 4, -5]`\n",
    "# Create a list of numbers\n",
    "numbers = [-1, -2, 3, 4, -5]\n",
    "\n",
    "# Filter out negative numbers using filter()\n",
    "positive_numbers = list(filter(lambda x: x > 0, numbers))\n",
    "\n",
    "# Print the filtered positive numbers\n",
    "print(positive_numbers)"
   ]
  },
  {
   "cell_type": "code",
   "execution_count": 57,
   "id": "178d6d11-ca79-4e0a-a1f9-f4a1a3bfa981",
   "metadata": {},
   "outputs": [
    {
     "name": "stdout",
     "output_type": "stream",
     "text": [
      "[3, 6]\n"
     ]
    }
   ],
   "source": [
    "# 50. Use `filter()` to find all numbers divisible by 3 from the list `[1, 2, 3, 4, 5, 6]`\n",
    "# Create a list of numbers\n",
    "numbers = [1, 2, 3, 4, 5, 6]\n",
    "\n",
    "# Filter numbers divisible by 3 using filter()\n",
    "divisible_by_3 = list(filter(lambda x: x % 3 == 0, numbers))\n",
    "\n",
    "# Print the filtered numbers\n",
    "print(divisible_by_3)"
   ]
  },
  {
   "cell_type": "code",
   "execution_count": null,
   "id": "88d9126b-ca0a-46a9-a859-00a46a50164f",
   "metadata": {},
   "outputs": [],
   "source": []
  }
 ],
 "metadata": {
  "kernelspec": {
   "display_name": "Python 3 (ipykernel)",
   "language": "python",
   "name": "python3"
  },
  "language_info": {
   "codemirror_mode": {
    "name": "ipython",
    "version": 3
   },
   "file_extension": ".py",
   "mimetype": "text/x-python",
   "name": "python",
   "nbconvert_exporter": "python",
   "pygments_lexer": "ipython3",
   "version": "3.11.4"
  }
 },
 "nbformat": 4,
 "nbformat_minor": 5
}
