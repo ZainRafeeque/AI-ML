{
 "cells": [
  {
   "cell_type": "code",
   "execution_count": 6,
   "id": "fb630e94-2a7f-4b6f-8049-18af7357f0ab",
   "metadata": {},
   "outputs": [
    {
     "name": "stdout",
     "output_type": "stream",
     "text": [
      "x is greater than 10\n"
     ]
    }
   ],
   "source": [
    "# 1. List five Python keywords and describe what they do.\n",
    "#ans.Here are five common Python keywords and their functions:\n",
    "\n",
    "#1. if\n",
    "#- Used to conditionally execute a block of code based on a given condition.\n",
    "#- Example:\n",
    "\n",
    "x=12\n",
    "if x > 10:\n",
    "    print(\"x is greater than 10\")\n"
   ]
  },
  {
   "cell_type": "code",
   "execution_count": 7,
   "id": "e8d2111d-8398-4fe8-8462-4c9f6a7065c2",
   "metadata": {},
   "outputs": [
    {
     "name": "stdout",
     "output_type": "stream",
     "text": [
      "0\n",
      "1\n",
      "2\n",
      "3\n",
      "4\n"
     ]
    }
   ],
   "source": [
    "#2.for\n",
    "#- Used to iterate over a sequence (like a list, tuple, or string) or execute a block of code a specific number of times.\n",
    "#- Example:\n",
    "\n",
    "for i in range(5):\n",
    "    print(i)\n"
   ]
  },
  {
   "cell_type": "code",
   "execution_count": 12,
   "id": "98e3ee27-1b2d-4749-b538-ef7cf22c10d5",
   "metadata": {},
   "outputs": [
    {
     "name": "stdout",
     "output_type": "stream",
     "text": [
      "Hello, zain!\n"
     ]
    }
   ],
   "source": [
    "#3. def\n",
    "# Used to define a function.\n",
    "# Example:\n",
    "     \n",
    "def greet(name):\n",
    "    print(\"Hello, \" + name + \"!\")\n",
    "\n",
    "greet(\"zain\")"
   ]
  },
  {
   "cell_type": "code",
   "execution_count": 15,
   "id": "bc2cda58-bce2-4908-9f19-27c1edfec16c",
   "metadata": {},
   "outputs": [
    {
     "name": "stdout",
     "output_type": "stream",
     "text": [
      "Apple is present\n"
     ]
    }
   ],
   "source": [
    "#4.in\n",
    "#- Used to check if a value exists within a sequence or to iterate over a sequence.\n",
    "#- Example:\n",
    "\n",
    "fruits=[\"apple\",\"banana\",\"strawberry\",\"melon\"]\n",
    "if \"apple\" in fruits:\n",
    "    print(\"Apple is present\")\n",
    "     "
   ]
  },
  {
   "cell_type": "code",
   "execution_count": 16,
   "id": "4577ce55-8af9-45c9-b9ec-cddf29f24069",
   "metadata": {},
   "outputs": [
    {
     "name": "stdout",
     "output_type": "stream",
     "text": [
      "1\n",
      "2\n",
      "3\n",
      "4\n",
      "5\n",
      "6\n",
      "7\n",
      "8\n",
      "9\n"
     ]
    }
   ],
   "source": [
    "\n",
    "\n",
    "#5. while:\n",
    "#- Used to repeatedly execute a block of code as long as a given condition is true.\n",
    "#- Example:\n",
    "\n",
    "x=1     \n",
    "while x < 10:\n",
    "         print(x)\n",
    "         x += 1\n",
    "    \n"
   ]
  },
  {
   "cell_type": "code",
   "execution_count": 17,
   "id": "925f216c-d837-45d5-beda-da3e0479b0a1",
   "metadata": {},
   "outputs": [
    {
     "name": "stdout",
     "output_type": "stream",
     "text": [
      "50\n"
     ]
    }
   ],
   "source": [
    "# 2. Write an expression to calculate the area of a rectangle with a length of 5 and width of 10.\n",
    "#ans\n",
    "\n",
    "area = 5 * 10\n",
    "print(area)  "
   ]
  },
  {
   "cell_type": "code",
   "execution_count": 18,
   "id": "86010926-e924-48fe-8301-d6832846541e",
   "metadata": {},
   "outputs": [
    {
     "name": "stdout",
     "output_type": "stream",
     "text": [
      "True\n",
      "False\n"
     ]
    }
   ],
   "source": [
    "# 3. Use the `is` keyword to check if two variables point to the same object\n",
    "#ans\n",
    "x = [1, 2, 3]\n",
    "y = x\n",
    "\n",
    "print(x is y) \n",
    "\n",
    "y = [1, 2, 3]  \n",
    "\n",
    "print(x is y)  "
   ]
  },
  {
   "cell_type": "code",
   "execution_count": 19,
   "id": "24ccc192-d2da-42df-8d93-83d111527076",
   "metadata": {},
   "outputs": [
    {
     "name": "stdout",
     "output_type": "stream",
     "text": [
      "31.875\n"
     ]
    }
   ],
   "source": [
    "# 4. Write a Python expression that combines addition, subtraction, multiplication, and division.\n",
    "#ans\n",
    "result = (10 + 5) * (20 - 3) / (4 * 2)\n",
    "print(result) "
   ]
  },
  {
   "cell_type": "code",
   "execution_count": 21,
   "id": "c4ddc317-d0cc-487d-9eee-95a10f4d6642",
   "metadata": {},
   "outputs": [
    {
     "data": {
      "text/plain": [
       "1"
      ]
     },
     "execution_count": 21,
     "metadata": {},
     "output_type": "execute_result"
    }
   ],
   "source": [
    "# 5. What is the output of `10 % 3`? Explain why.\n",
    "#ans.The % operator in Python is called the modulo operator. It returns the remainder of the division operation.\n",
    "\n",
    "10 % 3"
   ]
  },
  {
   "cell_type": "code",
   "execution_count": 23,
   "id": "474527d0-03dd-4d5d-82d7-07de314bcafa",
   "metadata": {},
   "outputs": [
    {
     "data": {
      "text/plain": [
       "float"
      ]
     },
     "execution_count": 23,
     "metadata": {},
     "output_type": "execute_result"
    }
   ],
   "source": [
    "# 6. Check the type of the value `3.14` in Python.\n",
    "#ans.Decimal values has float type\n",
    "\n",
    "type(3.14)"
   ]
  },
  {
   "cell_type": "code",
   "execution_count": 30,
   "id": "ff9392d9-2440-4cac-bb5e-6676737f9a3a",
   "metadata": {},
   "outputs": [
    {
     "name": "stdout",
     "output_type": "stream",
     "text": [
      "10.0\n",
      "<class 'float'>\n",
      "10\n",
      "<class 'str'>\n"
     ]
    }
   ],
   "source": [
    "# 7. Convert the integer `10` to a float and a string. Print the results.\n",
    "#ans\n",
    "value = 10\n",
    "\n",
    "float_value = float(value)\n",
    "string_value = str(value)\n",
    "print(float_value)\n",
    "print(type(float_value)) \n",
    "print(string_value)\n",
    "print(type(string_value))  "
   ]
  },
  {
   "cell_type": "code",
   "execution_count": 32,
   "id": "e55f9a32-d308-4482-9d6f-2766d483ff43",
   "metadata": {},
   "outputs": [
    {
     "name": "stdout",
     "output_type": "stream",
     "text": [
      "Hello World\n"
     ]
    }
   ],
   "source": [
    "#8. Write a statement to add two strings and print the result.\n",
    "#ans\n",
    "string1 = \"Hello\"\n",
    "string2 = \" World\"\n",
    "\n",
    "combined_string = string1 + string2\n",
    "print(combined_string)  "
   ]
  },
  {
   "cell_type": "code",
   "execution_count": 34,
   "id": "8733f041-80ac-48ad-b12e-f376969f092b",
   "metadata": {},
   "outputs": [
    {
     "data": {
      "text/plain": [
       "bool"
      ]
     },
     "execution_count": 34,
     "metadata": {},
     "output_type": "execute_result"
    }
   ],
   "source": [
    "#9. What data type would the result of `3 > 2` be?\n",
    "#ans. boolean data type\n",
    "type(3>2)"
   ]
  },
  {
   "cell_type": "code",
   "execution_count": 37,
   "id": "23d973d3-0235-4939-ba03-0ccc7141ed59",
   "metadata": {},
   "outputs": [
    {
     "name": "stdout",
     "output_type": "stream",
     "text": [
      "123\n",
      "<class 'int'>\n"
     ]
    }
   ],
   "source": [
    "#10. How can you convert a string \"123\" into an integer?\n",
    "#ans.\n",
    "string_value = \"123\"\n",
    "integer_value = int(string_value)\n",
    "print(integer_value)\n",
    "print(type(integer_value)) \n"
   ]
  },
  {
   "cell_type": "code",
   "execution_count": 38,
   "id": "8b8a3746-d8a3-44c0-bb16-5e96b8e54d57",
   "metadata": {},
   "outputs": [
    {
     "name": "stdout",
     "output_type": "stream",
     "text": [
      "30\n"
     ]
    }
   ],
   "source": [
    "# 11. Create a list of 5 elements and print the third element.\n",
    "my_list = [10, 20, 30, 40, 50]\n",
    "print(my_list[2])  "
   ]
  },
  {
   "cell_type": "code",
   "execution_count": 40,
   "id": "9c026ec1-fe81-4188-ae5c-81013b6ba2c0",
   "metadata": {},
   "outputs": [
    {
     "data": {
      "text/plain": [
       "[10, 20, 30, 40, 50, 42]"
      ]
     },
     "execution_count": 40,
     "metadata": {},
     "output_type": "execute_result"
    }
   ],
   "source": [
    "# 12. Add a new element to a list called `my_list` using the `.append()` method.\n",
    "my_list = [10, 20, 30, 40, 50]\n",
    "my_list.append(42)\n",
    "my_list"
   ]
  },
  {
   "cell_type": "code",
   "execution_count": 42,
   "id": "36bd08b9-3a97-4a14-a153-1988a620a1da",
   "metadata": {},
   "outputs": [
    {
     "name": "stdout",
     "output_type": "stream",
     "text": [
      "[10, 20, 30, 40, 50]\n"
     ]
    },
    {
     "data": {
      "text/plain": [
       "[10, 20, 30, 40]"
      ]
     },
     "execution_count": 42,
     "metadata": {},
     "output_type": "execute_result"
    }
   ],
   "source": [
    "# 13. Remove the last element from a list `my_list` using the `.pop()` method.\n",
    "print(my_list)\n",
    "my_list.pop()\n",
    "my_list"
   ]
  },
  {
   "cell_type": "code",
   "execution_count": 47,
   "id": "c44118f5-ce18-4b3d-bdfe-f4d71570bdda",
   "metadata": {},
   "outputs": [
    {
     "ename": "TypeError",
     "evalue": "'tuple' object does not support item assignment",
     "output_type": "error",
     "traceback": [
      "\u001b[1;31m---------------------------------------------------------------------------\u001b[0m",
      "\u001b[1;31mTypeError\u001b[0m                                 Traceback (most recent call last)",
      "Cell \u001b[1;32mIn[47], line 5\u001b[0m\n\u001b[0;32m      1\u001b[0m \u001b[38;5;66;03m# 14. Create a tuple with four elements and try changing the second element. What happens?\u001b[39;00m\n\u001b[0;32m      2\u001b[0m \u001b[38;5;66;03m#ans. tuple is immutable\u001b[39;00m\n\u001b[0;32m      3\u001b[0m my_tuple \u001b[38;5;241m=\u001b[39m (\u001b[38;5;241m10\u001b[39m, \u001b[38;5;241m20\u001b[39m, \u001b[38;5;241m30\u001b[39m, \u001b[38;5;241m40\u001b[39m)\n\u001b[1;32m----> 5\u001b[0m \u001b[43mmy_tuple\u001b[49m\u001b[43m[\u001b[49m\u001b[38;5;241;43m1\u001b[39;49m\u001b[43m]\u001b[49m \u001b[38;5;241m=\u001b[39m \u001b[38;5;241m50\u001b[39m\n\u001b[0;32m      6\u001b[0m my_tuple\u001b[38;5;241m.\u001b[39minsert(\u001b[38;5;241m1\u001b[39m,\u001b[38;5;241m50\u001b[39m)\n\u001b[0;32m      8\u001b[0m \u001b[38;5;28mprint\u001b[39m(my_tuple) \n",
      "\u001b[1;31mTypeError\u001b[0m: 'tuple' object does not support item assignment"
     ]
    }
   ],
   "source": [
    "# 14. Create a tuple with four elements and try changing the second element. What happens?\n",
    "#ans. tuple is immutable\n",
    "my_tuple = (10, 20, 30, 40)\n",
    "\n",
    "my_tuple[1] = 50\n",
    "my_tuple.insert(1,50)\n",
    "\n",
    "print(my_tuple) "
   ]
  },
  {
   "cell_type": "code",
   "execution_count": 48,
   "id": "3d17916c-3222-4adf-b516-9da1b9829082",
   "metadata": {},
   "outputs": [
    {
     "name": "stdout",
     "output_type": "stream",
     "text": [
      "[40, 50]\n"
     ]
    }
   ],
   "source": [
    "# 15. Use slicing to get the last two elements from a list `[10, 20, 30, 40, 50]`.\n",
    "#ans.\n",
    "my_list = [10, 20, 30, 40, 50]\n",
    "last_two_elements = my_list[-2:]\n",
    "print(last_two_elements)  "
   ]
  },
  {
   "cell_type": "code",
   "execution_count": 49,
   "id": "fe5b5954-68dd-44ca-a3c9-01e1c6588c9e",
   "metadata": {},
   "outputs": [
    {
     "name": "stdout",
     "output_type": "stream",
     "text": [
      "{'name': 'Alice', 'age': 25}\n"
     ]
    }
   ],
   "source": [
    "# 16. Create a dictionary with keys 'name' and 'age' and values 'Alice' and 25.\n",
    "my_dict = {'name': 'Alice', 'age': 25}\n",
    "print(my_dict)"
   ]
  },
  {
   "cell_type": "code",
   "execution_count": 50,
   "id": "be4c659b-6ed1-40bf-9f3b-3bfcbc255eb3",
   "metadata": {},
   "outputs": [
    {
     "name": "stdout",
     "output_type": "stream",
     "text": [
      "Alice\n"
     ]
    }
   ],
   "source": [
    "#17. Retrieve the value associated with the key 'name' from the dictionary you created in question 16.\n",
    "#ans\n",
    "my_dict = {'name': 'Alice', 'age': 25}\n",
    "\n",
    "name = my_dict['name']\n",
    "print(name)  "
   ]
  },
  {
   "cell_type": "code",
   "execution_count": 51,
   "id": "5f571695-07b2-49e6-af25-aa844efa6c90",
   "metadata": {},
   "outputs": [
    {
     "name": "stdout",
     "output_type": "stream",
     "text": [
      "The key 'name' exists in the dictionary.\n"
     ]
    }
   ],
   "source": [
    "#18. Check if the key 'name' exists in a dictionary.\n",
    "#ans\n",
    "my_dict = {'name': 'Alice', 'age': 25}\n",
    "\n",
    "if 'name' in my_dict:\n",
    "    print(\"The key 'name' exists in the dictionary.\")\n",
    "else:\n",
    "    print(\"The key 'name' does not exist in the dictionary.\")"
   ]
  },
  {
   "cell_type": "code",
   "execution_count": 52,
   "id": "1a0f87d7-dd16-41f9-99e4-271fc4ad6adc",
   "metadata": {},
   "outputs": [],
   "source": [
    "# 19. What is the difference between a list and a set in Python?\n",
    "#list\n",
    "   # Allows duplicates: Can contain multiple identical elements.\n",
    "   #  Uses square brackets [] to define: my_list = [1, 2, 3]\n",
    "\n",
    "#set\n",
    "    #Does not allow duplicates: Each element must be unique.\n",
    "    #Uses curly braces {} to define: my_set = {1, 2, 3}"
   ]
  },
  {
   "cell_type": "code",
   "execution_count": 53,
   "id": "f1b076fe-1f3f-4a53-89d7-72d2cf1245a3",
   "metadata": {},
   "outputs": [
    {
     "name": "stdout",
     "output_type": "stream",
     "text": [
      "{1, 2, 3}\n"
     ]
    }
   ],
   "source": [
    "# 20. Convert a list `[1, 2, 3, 2, 1]` into a set and print the result.\n",
    "my_list = [1, 2, 3, 2, 1]\n",
    "my_set = set(my_list)\n",
    "print(my_set)  "
   ]
  },
  {
   "cell_type": "code",
   "execution_count": 54,
   "id": "c7e3b1e5-21d1-41c4-b55d-d191ee705311",
   "metadata": {},
   "outputs": [
    {
     "name": "stdout",
     "output_type": "stream",
     "text": [
      "Greater than 10\n"
     ]
    }
   ],
   "source": [
    "#21. Write an `if` statement that prints 'Greater than 10' if a number is greater than 10.\n",
    "\n",
    "number = 15\n",
    "\n",
    "if number > 10:\n",
    "    print('Greater than 10')"
   ]
  },
  {
   "cell_type": "code",
   "execution_count": 55,
   "id": "4e027aaa-c650-4802-bf9c-5b6ee6dd6c2b",
   "metadata": {},
   "outputs": [
    {
     "name": "stdout",
     "output_type": "stream",
     "text": [
      "The number is negative or zero.\n"
     ]
    }
   ],
   "source": [
    "#22. Write an `if-else` statement that checks if a number is positive or negative.\n",
    "number = -5\n",
    "\n",
    "if number > 0:\n",
    "    print(\"The number is positive.\")\n",
    "else:\n",
    "    print(\"The number is negative or zero.\")"
   ]
  },
  {
   "cell_type": "code",
   "execution_count": 56,
   "id": "2697ded3-4805-4ecb-844f-a81deba78400",
   "metadata": {},
   "outputs": [
    {
     "name": "stdout",
     "output_type": "stream",
     "text": [
      "The number is zero.\n"
     ]
    }
   ],
   "source": [
    "#23. Write an `if-elif-else` statement that checks if a number is positive, negative, or zero.\n",
    "\n",
    "number = 0\n",
    "\n",
    "if number > 0:\n",
    "    print(\"The number is positive.\")\n",
    "elif number < 0:\n",
    "    print(\"The number is negative.\")\n",
    "else:\n",
    "    print(\"The number is zero.\")"
   ]
  },
  {
   "cell_type": "code",
   "execution_count": 57,
   "id": "2e25a704-cc6f-4608-a6f8-bdb0dea994e3",
   "metadata": {},
   "outputs": [
    {
     "name": "stdin",
     "output_type": "stream",
     "text": [
      "Enter an integer:  12\n"
     ]
    },
    {
     "name": "stdout",
     "output_type": "stream",
     "text": [
      "Even\n"
     ]
    }
   ],
   "source": [
    "#24. Create a Python program that takes an integer as input and prints 'Even' if it is even and 'Odd' if it is odd.\n",
    "number = int(input(\"Enter an integer: \"))\n",
    "\n",
    "if number % 2 == 0:\n",
    "    print(\"Even\")\n",
    "else:\n",
    "    print(\"Odd\")"
   ]
  },
  {
   "cell_type": "code",
   "execution_count": 59,
   "id": "f853913b-ac20-4398-9b66-6422b9c37e7a",
   "metadata": {},
   "outputs": [
    {
     "name": "stdin",
     "output_type": "stream",
     "text": [
      "Enter a year:  2005\n"
     ]
    },
    {
     "name": "stdout",
     "output_type": "stream",
     "text": [
      "2005 is not a leap year.\n"
     ]
    }
   ],
   "source": [
    "# 25. Write a program that checks if a given year is a leap year.\n",
    "year = int(input(\"Enter a year: \"))\n",
    "\n",
    "if (year % 4 == 0 and year % 100 != 0) or year % 400 == 0:\n",
    "    print(year, \"is a leap year.\")\n",
    "else:\n",
    "    print(year, \"is not a leap year.\")"
   ]
  },
  {
   "cell_type": "code",
   "execution_count": 61,
   "id": "5d654ba6-afc2-4c18-8d22-4d25546fbac9",
   "metadata": {},
   "outputs": [
    {
     "name": "stdin",
     "output_type": "stream",
     "text": [
      "Enter a year:  13\n"
     ]
    },
    {
     "name": "stdout",
     "output_type": "stream",
     "text": [
      "The number is positive but odd.\n"
     ]
    }
   ],
   "source": [
    "#26. Use a nested `if` statement to check if a number is positive and even.\n",
    "number = int(input(\"Enter a year: \"))\n",
    "\n",
    "if number > 0:\n",
    "    if number % 2 == 0:\n",
    "        print(\"The number is positive and even.\")\n",
    "    else:\n",
    "        print(\"The number is positive but odd.\")\n",
    "else:\n",
    "    print(\"The number is negative or zero.\")"
   ]
  },
  {
   "cell_type": "code",
   "execution_count": 62,
   "id": "a0876bba-7a51-450f-bce1-e3a9d92aca75",
   "metadata": {},
   "outputs": [
    {
     "name": "stdout",
     "output_type": "stream",
     "text": [
      "x is between 5 and 10\n"
     ]
    }
   ],
   "source": [
    "#27. Write a program to check if a variable `x` is between 5 and 10.\n",
    "\n",
    "x = 8\n",
    "\n",
    "if 5 < x < 10:\n",
    "    print(\"x is between 5 and 10\")\n",
    "else:\n",
    "    print(\"x is not between 5 and 10\")"
   ]
  },
  {
   "cell_type": "code",
   "execution_count": 66,
   "id": "56e9aa6f-aa65-4c86-9421-3fe9945977c5",
   "metadata": {},
   "outputs": [
    {
     "name": "stdout",
     "output_type": "stream",
     "text": [
      "x is an integer.\n"
     ]
    }
   ],
   "source": [
    "# 28. Write an `if` statement that checks if a variable is a specific data type.\n",
    "x = 10\n",
    "\n",
    "if isinstance(x, int):\n",
    "    print(\"x is an integer.\")\n",
    "else:\n",
    "    print(\"x is not an integer.\")"
   ]
  },
  {
   "cell_type": "code",
   "execution_count": 67,
   "id": "97922531-0d95-4361-a73f-0e37cf28ba51",
   "metadata": {},
   "outputs": [
    {
     "name": "stdout",
     "output_type": "stream",
     "text": [
      "Pass\n"
     ]
    }
   ],
   "source": [
    "# 29. Write a program that prints 'Pass' if a student's grade is 60 or higher, otherwise 'Fail'.\n",
    "grade = 65\n",
    "\n",
    "if grade >= 60:\n",
    "    print(\"Pass\")\n",
    "else:\n",
    "    print(\"Fail\")"
   ]
  },
  {
   "cell_type": "code",
   "execution_count": 68,
   "id": "2d933506-37c7-4ce6-a19b-9466dc1662a1",
   "metadata": {},
   "outputs": [
    {
     "name": "stdout",
     "output_type": "stream",
     "text": [
      "The string is empty.\n"
     ]
    }
   ],
   "source": [
    "#30. Write an `if` statement that prints a message if a variable is empty.\n",
    "my_string = \"\"\n",
    "\n",
    "if not my_string:\n",
    "    print(\"The string is empty.\")\n",
    "else:\n",
    "    print(\"The string is not empty.\")"
   ]
  },
  {
   "cell_type": "code",
   "execution_count": 69,
   "id": "2872643d-76b6-4cf2-a6f3-32653b357673",
   "metadata": {},
   "outputs": [
    {
     "name": "stdout",
     "output_type": "stream",
     "text": [
      "The sum of numbers from 1 to 20 is: 210\n"
     ]
    }
   ],
   "source": [
    "# 32. Write a `for` loop that calculates the sum of all numbers from 1 to 20.\n",
    "#ans\n",
    "sum = 0\n",
    "for number in range(1, 21):\n",
    "    sum += number\n",
    "\n",
    "print(\"The sum of numbers from 1 to 20 is:\", sum)"
   ]
  },
  {
   "cell_type": "code",
   "execution_count": 71,
   "id": "0f93774c-e13a-45f5-87d7-92f258125e8c",
   "metadata": {},
   "outputs": [
    {
     "name": "stdout",
     "output_type": "stream",
     "text": [
      "Alice\n",
      "Bob\n",
      "Charlie\n",
      "David\n"
     ]
    }
   ],
   "source": [
    "# 33. Use a `for` loop to iterate over a list of names and print each name.\n",
    "names = [\"Alice\", \"Bob\", \"Charlie\", \"David\"]\n",
    "\n",
    "for name in names:\n",
    "    print(name)"
   ]
  },
  {
   "cell_type": "code",
   "execution_count": 72,
   "id": "9f204dd7-7c5e-46ae-9e19-d1fd40efe69d",
   "metadata": {},
   "outputs": [
    {
     "name": "stdout",
     "output_type": "stream",
     "text": [
      "1\n",
      "4\n",
      "9\n",
      "16\n",
      "25\n",
      "36\n",
      "49\n",
      "64\n",
      "81\n",
      "100\n"
     ]
    }
   ],
   "source": [
    "# 34. Write a program to print the squares of numbers from 1 to 10 using a `for` loop.\n",
    "for number in range(1, 11):\n",
    "    square = number ** 2\n",
    "    print(square)"
   ]
  },
  {
   "cell_type": "code",
   "execution_count": 73,
   "id": "6ebe75eb-c168-4a08-8a38-b39378ae8cc5",
   "metadata": {},
   "outputs": [
    {
     "name": "stdout",
     "output_type": "stream",
     "text": [
      "2\n",
      "4\n",
      "6\n",
      "8\n",
      "10\n",
      "12\n",
      "14\n",
      "16\n",
      "18\n",
      "20\n"
     ]
    }
   ],
   "source": [
    "# 35. Use a `for` loop and `range()` to print all even numbers from 1 to 20.\n",
    "for number in range(2, 21, 2):\n",
    "    print(number)"
   ]
  },
  {
   "cell_type": "code",
   "execution_count": 74,
   "id": "6d4547e7-6da4-428f-b5d6-1508a2c3fcfa",
   "metadata": {},
   "outputs": [
    {
     "name": "stdout",
     "output_type": "stream",
     "text": [
      "10\n",
      "9\n",
      "8\n",
      "7\n",
      "6\n",
      "5\n",
      "4\n",
      "3\n",
      "2\n",
      "1\n"
     ]
    }
   ],
   "source": [
    "# 36. Write a program that counts down from 10 to 1 using a `for` loop.\n",
    "for i in range(10, 0, -1):\n",
    "    print(i)"
   ]
  },
  {
   "cell_type": "code",
   "execution_count": 75,
   "id": "cac7de66-abee-49ba-814c-12853fd6835a",
   "metadata": {},
   "outputs": [
    {
     "name": "stdout",
     "output_type": "stream",
     "text": [
      "APPLE\n",
      "BANANA\n",
      "ORANGE\n",
      "GRAPE\n"
     ]
    }
   ],
   "source": [
    "# 37. Create a list of fruits and use a `for` loop to print each fruit in uppercase.\n",
    "fruits = [\"apple\", \"banana\", \"orange\", \"grape\"]\n",
    "\n",
    "for fruit in fruits:\n",
    "    print(fruit.upper())"
   ]
  },
  {
   "cell_type": "code",
   "execution_count": 76,
   "id": "a3df55db-b8bd-4934-92c7-b11858d2260b",
   "metadata": {},
   "outputs": [
    {
     "name": "stdout",
     "output_type": "stream",
     "text": [
      "0 apple\n",
      "1 banana\n",
      "2 cherry\n"
     ]
    }
   ],
   "source": [
    "#38. Write a `for` loop that prints the elements in a list along with their index.\n",
    "my_list = [\"apple\", \"banana\", \"cherry\"]\n",
    "\n",
    "for index, element in enumerate(my_list):\n",
    "    print(index, element)"
   ]
  },
  {
   "cell_type": "code",
   "execution_count": 77,
   "id": "8def63ed-4efc-4f63-b55e-7c2ff92fa0a8",
   "metadata": {},
   "outputs": [
    {
     "name": "stdout",
     "output_type": "stream",
     "text": [
      "0\n",
      "3\n",
      "6\n",
      "9\n",
      "12\n",
      "15\n",
      "18\n",
      "21\n",
      "24\n",
      "27\n",
      "30\n"
     ]
    }
   ],
   "source": [
    "# 39. Use `range()` with three arguments to print every third number from 0 to 30\n",
    "for number in range(0, 31, 3):\n",
    "    print(number)"
   ]
  },
  {
   "cell_type": "code",
   "execution_count": 78,
   "id": "172a3c79-e99a-43fd-91a1-5134381723a1",
   "metadata": {},
   "outputs": [
    {
     "name": "stdin",
     "output_type": "stream",
     "text": [
      "Enter a non-negative integer:  13\n"
     ]
    },
    {
     "name": "stdout",
     "output_type": "stream",
     "text": [
      "The factorial of 13 is 6227020800\n"
     ]
    }
   ],
   "source": [
    "# 40. Write a program to calculate the factorial of a number using a `for` loop.\n",
    "number = int(input(\"Enter a non-negative integer: \"))\n",
    "\n",
    "factorial = 1\n",
    "if number < 0:\n",
    "    print(\"Factorial is not defined for negative numbers.\")\n",
    "elif number == 0:\n",
    "    print(\"The factorial of 0 is 1.\")\n",
    "else:\n",
    "    for i in range(1, number + 1):\n",
    "        factorial *= i\n",
    "    print(\"The factorial of\", number, \"is\", factorial)\n",
    "    "
   ]
  },
  {
   "cell_type": "code",
   "execution_count": 79,
   "id": "10a0071c-ab4d-4981-8bc9-290a92d491e1",
   "metadata": {},
   "outputs": [
    {
     "name": "stdout",
     "output_type": "stream",
     "text": [
      "1\n",
      "2\n",
      "3\n",
      "4\n",
      "5\n"
     ]
    }
   ],
   "source": [
    "# 41. Use a `while` loop to print numbers from 1 to 5.\n",
    "i = 1\n",
    "while i <= 5:\n",
    "    print(i)\n",
    "    i += 1"
   ]
  },
  {
   "cell_type": "code",
   "execution_count": 80,
   "id": "094af460-c086-4e2c-aa44-24b58b428311",
   "metadata": {},
   "outputs": [
    {
     "name": "stdin",
     "output_type": "stream",
     "text": [
      "Enter the password:  1234\n"
     ]
    },
    {
     "name": "stdout",
     "output_type": "stream",
     "text": [
      "Password accepted.\n"
     ]
    }
   ],
   "source": [
    "# 42. Write a program that keeps asking the user for a password until they enter '1234'.\n",
    "password = \"\"\n",
    "while password != \"1234\":\n",
    "    password = input(\"Enter the password: \")\n",
    "\n",
    "print(\"Password accepted.\")"
   ]
  },
  {
   "cell_type": "code",
   "execution_count": 81,
   "id": "906b4f77-bdc4-4c30-b588-bef4f22f779e",
   "metadata": {},
   "outputs": [
    {
     "name": "stdout",
     "output_type": "stream",
     "text": [
      "The sum of numbers from 1 to 100 is: 5050\n"
     ]
    }
   ],
   "source": [
    "#43. Write a `while` loop to find the sum of numbers from 1 to 100.\n",
    "sum = 0\n",
    "i = 1\n",
    "\n",
    "while i <= 100:\n",
    "    sum += i\n",
    "    i += 1\n",
    "\n",
    "print(\"The sum of numbers from 1 to 100 is:\", sum)"
   ]
  },
  {
   "cell_type": "code",
   "execution_count": 82,
   "id": "aa4e70f1-f928-4d0d-b783-64e3b21f91ce",
   "metadata": {},
   "outputs": [
    {
     "name": "stdout",
     "output_type": "stream",
     "text": [
      "10\n",
      "9\n",
      "8\n",
      "7\n",
      "6\n",
      "5\n",
      "4\n",
      "3\n",
      "2\n",
      "1\n"
     ]
    }
   ],
   "source": [
    "#44. Use a `while` loop to print the numbers in reverse from 10 to 1.\n",
    "i = 10\n",
    "while i >= 1:\n",
    "    print(i)\n",
    "    i -= 1"
   ]
  },
  {
   "cell_type": "code",
   "execution_count": 83,
   "id": "01f1dd1c-56eb-4a81-a34d-1ed39d20f173",
   "metadata": {},
   "outputs": [
    {
     "name": "stdout",
     "output_type": "stream",
     "text": [
      "2\n",
      "4\n",
      "6\n",
      "8\n",
      "10\n",
      "12\n",
      "14\n",
      "16\n",
      "18\n",
      "20\n"
     ]
    }
   ],
   "source": [
    "# 45. Write a `while` loop that prints only even numbers between 1 and 20.\n",
    "i = 2\n",
    "while i <= 20:\n",
    "    print(i)\n",
    "    i += 2"
   ]
  },
  {
   "cell_type": "code",
   "execution_count": 84,
   "id": "d08b9ebb-0423-4178-9fcd-ccd150b7c794",
   "metadata": {},
   "outputs": [
    {
     "name": "stdout",
     "output_type": "stream",
     "text": [
      "0\n",
      "10\n",
      "20\n",
      "30\n",
      "40\n",
      "50\n",
      "60\n",
      "70\n",
      "80\n",
      "90\n",
      "100\n"
     ]
    }
   ],
   "source": [
    "# 46. Create a `while` loop that stops once a number exceeds 100.\n",
    "number = 0\n",
    "while number <= 100:\n",
    "    print(number)\n",
    "    number += 10"
   ]
  },
  {
   "cell_type": "code",
   "execution_count": 85,
   "id": "16537597-7dd0-4286-b1b9-0120a6cc5d73",
   "metadata": {},
   "outputs": [
    {
     "name": "stdout",
     "output_type": "stream",
     "text": [
      "5\n",
      "4\n",
      "3\n",
      "2\n",
      "1\n"
     ]
    }
   ],
   "source": [
    "# 47. Write a `while` loop that repeatedly removes the last element from a list until it's empty.\n",
    "my_list = [1, 2, 3, 4, 5]\n",
    "\n",
    "while my_list:\n",
    "    last_element = my_list.pop()\n",
    "    print(last_element)"
   ]
  },
  {
   "cell_type": "code",
   "execution_count": 87,
   "id": "6bfff8a6-245a-4537-9366-c5e437c155d8",
   "metadata": {},
   "outputs": [
    {
     "name": "stdout",
     "output_type": "stream",
     "text": [
      "10\n",
      "9\n",
      "8\n",
      "7\n",
      "6\n",
      "5\n",
      "4\n",
      "3\n",
      "2\n",
      "1\n",
      "Liftoff!\n"
     ]
    }
   ],
   "source": [
    "# 48. Create a countdown timer that counts down from 10 to 1 using `while`.\n",
    "import time\n",
    "\n",
    "countdown = 10\n",
    "while countdown > 0:\n",
    "    print(countdown)\n",
    "    countdown -= 1\n",
    "    time.sleep(1)  \n",
    "\n",
    "print(\"Liftoff!\")"
   ]
  },
  {
   "cell_type": "code",
   "execution_count": 88,
   "id": "fca06f5b-0971-4508-9af7-3529b122f247",
   "metadata": {},
   "outputs": [
    {
     "name": "stdout",
     "output_type": "stream",
     "text": [
      "5\n",
      "10\n",
      "15\n",
      "20\n",
      "25\n",
      "30\n",
      "35\n",
      "40\n",
      "45\n",
      "50\n"
     ]
    }
   ],
   "source": [
    "# 49. Write a program that finds the first 10 multiples of 5 using a `while` loop.\n",
    "multiple = 5\n",
    "count = 1\n",
    "\n",
    "while count <= 10:\n",
    "    print(multiple)\n",
    "    multiple += 5\n",
    "    count += 1"
   ]
  },
  {
   "cell_type": "code",
   "execution_count": 89,
   "id": "219147c5-3618-41a6-8482-4633743625db",
   "metadata": {},
   "outputs": [
    {
     "name": "stdout",
     "output_type": "stream",
     "text": [
      "[0, 1, 1, 2, 3, 5, 8, 13, 21, 34, 55]\n"
     ]
    }
   ],
   "source": [
    "# 50. Use a `while` loop to generate a list of the first 10 Fibonacci numbers.\n",
    "fibonacci_list = [0, 1]\n",
    "count = 2\n",
    "\n",
    "while count <= 10:\n",
    "    next_fib = fibonacci_list[-1] + fibonacci_list[-2]\n",
    "    fibonacci_list.append(next_fib)\n",
    "    count += 1\n",
    "\n",
    "print(fibonacci_list)"
   ]
  }
 ],
 "metadata": {
  "kernelspec": {
   "display_name": "Python 3 (ipykernel)",
   "language": "python",
   "name": "python3"
  },
  "language_info": {
   "codemirror_mode": {
    "name": "ipython",
    "version": 3
   },
   "file_extension": ".py",
   "mimetype": "text/x-python",
   "name": "python",
   "nbconvert_exporter": "python",
   "pygments_lexer": "ipython3",
   "version": "3.11.4"
  }
 },
 "nbformat": 4,
 "nbformat_minor": 5
}
