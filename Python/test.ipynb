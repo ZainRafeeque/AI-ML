{
 "cells": [
  {
   "cell_type": "code",
   "execution_count": 2,
   "id": "57de6471-a24c-43e3-a509-e5f1c70ce02d",
   "metadata": {},
   "outputs": [
    {
     "name": "stdout",
     "output_type": "stream",
     "text": [
      "area of circle with radius r=7 is 153.86\n"
     ]
    }
   ],
   "source": [
    "#1. Write a Python expression to calculate the area of a circle with radius r = 7.\n",
    "r=7\n",
    "# area of a circle with radius r = 7\n",
    "area=3.14*r**2\n",
    "print(\"area of circle with radius r=7 is\",area)"
   ]
  },
  {
   "cell_type": "code",
   "execution_count": 3,
   "id": "096cd934-e210-4955-a52b-bfd06821e7da",
   "metadata": {},
   "outputs": [
    {
     "name": "stdout",
     "output_type": "stream",
     "text": [
      "the output of the expression is 10\n"
     ]
    }
   ],
   "source": [
    "# 2. What will be the output of the expression 2 * 3 + 4?\n",
    "result=2*3+4\n",
    "print(\"the output of the expression is\",result)"
   ]
  },
  {
   "cell_type": "code",
   "execution_count": 4,
   "id": "b0b16435-949e-4920-847d-0fbd84052a97",
   "metadata": {},
   "outputs": [
    {
     "name": "stdout",
     "output_type": "stream",
     "text": [
      "the output of the expression is 20.0\n"
     ]
    }
   ],
   "source": [
    "# 3. Calculate the result of (8 / 2) * (3 + 2).\n",
    "result=(8 / 2) * (3 + 2)\n",
    "print(\"the output of the expression is\",result)"
   ]
  },
  {
   "cell_type": "code",
   "execution_count": 6,
   "id": "5ac78346-37f6-48e4-91a8-b5d0bb9bd128",
   "metadata": {},
   "outputs": [
    {
     "name": "stdout",
     "output_type": "stream",
     "text": [
      "the remainder is 3\n"
     ]
    }
   ],
   "source": [
    "#4. Write an expression to find the remainder when 15 is divided by 4.\n",
    "Remainder=15%4\n",
    "print(\"the remainder is\",Remainder)"
   ]
  },
  {
   "cell_type": "code",
   "execution_count": 9,
   "id": "229c7be1-aab3-4c5f-ab5b-30ebc4fe3a5a",
   "metadata": {},
   "outputs": [
    {
     "name": "stdout",
     "output_type": "stream",
     "text": [
      "faranheit  converted to celsius is 37.77777777777778\n"
     ]
    }
   ],
   "source": [
    "#5. Write a Python expression to convert 100 Fahrenheit to Celsius using the formula: C = (F - 32) * 5/9.\n",
    "#f==faranheit && c== celsius\n",
    "\n",
    "f=100\n",
    "c =(f - 32) * 5/9\n",
    "\n",
    "print(\"faranheit\", f\" converted to celsius is\", c)"
   ]
  },
  {
   "cell_type": "code",
   "execution_count": 10,
   "id": "29a56b87-6e11-4f6f-a081-f3909a970203",
   "metadata": {},
   "outputs": [
    {
     "name": "stdout",
     "output_type": "stream",
     "text": [
      "the result of the expression is 11\n"
     ]
    }
   ],
   "source": [
    "#6. Evaluate the expression: 10 // 3 + 2 ** 3.\n",
    "\n",
    "result=10 // 3 + 2 ** 3\n",
    "print(\"the result of the expression is\",result)"
   ]
  },
  {
   "cell_type": "code",
   "execution_count": 12,
   "id": "adffbd0e-2362-4980-863c-20691533a4cb",
   "metadata": {},
   "outputs": [
    {
     "data": {
      "text/plain": [
       "True"
      ]
     },
     "execution_count": 12,
     "metadata": {},
     "output_type": "execute_result"
    }
   ],
   "source": [
    "# 7. What does the expression 5 == 5 and 4 < 6 evaluate to?\n",
    "5 == 5 and 4 < 6"
   ]
  },
  {
   "cell_type": "code",
   "execution_count": 13,
   "id": "6a8e061f-a446-4c2a-8fcd-6a27fb86f395",
   "metadata": {},
   "outputs": [
    {
     "data": {
      "text/plain": [
       "True"
      ]
     },
     "execution_count": 13,
     "metadata": {},
     "output_type": "execute_result"
    }
   ],
   "source": [
    "# 8. What is the output of not (4 > 5 or 3 == 3)?\n",
    "\n",
    "4 > 5 or 3 == 3"
   ]
  },
  {
   "cell_type": "code",
   "execution_count": 14,
   "id": "f3f68c4f-610a-4c9a-baee-ee32cca8b8c7",
   "metadata": {},
   "outputs": [
    {
     "name": "stdout",
     "output_type": "stream",
     "text": [
      "x is odd\n"
     ]
    }
   ],
   "source": [
    "# 9. Write an expression that checks if a number x is odd.\n",
    "\n",
    "x=7\n",
    "if  x % 2 != 0:\n",
    "    print(\"x is odd\")\n",
    "else:\n",
    "    print(\"x is even\")\n",
    "\n",
    "#the expression for checking odd is x % 2 != 0"
   ]
  },
  {
   "cell_type": "code",
   "execution_count": 15,
   "id": "23e8e572-8f42-4bda-9600-1aabe9a7c95c",
   "metadata": {},
   "outputs": [],
   "source": [
    "#DATATYPES"
   ]
  },
  {
   "cell_type": "code",
   "execution_count": 16,
   "id": "2a00a5e0-4846-48c2-b205-ecefe8ce9a20",
   "metadata": {},
   "outputs": [
    {
     "data": {
      "text/plain": [
       "float"
      ]
     },
     "execution_count": 16,
     "metadata": {},
     "output_type": "execute_result"
    }
   ],
   "source": [
    "# 10. What is the type of the value 5.0?\n",
    "\n",
    "x=5.0\n",
    "type(x)"
   ]
  },
  {
   "cell_type": "code",
   "execution_count": 17,
   "id": "5f2ecdf1-de73-48d5-9897-d1540235fd5a",
   "metadata": {},
   "outputs": [
    {
     "name": "stdout",
     "output_type": "stream",
     "text": [
      "3\n"
     ]
    },
    {
     "data": {
      "text/plain": [
       "str"
      ]
     },
     "execution_count": 17,
     "metadata": {},
     "output_type": "execute_result"
    }
   ],
   "source": [
    "# 11. How do you convert the integer 42 to a string?\n",
    "\n",
    "number=3\n",
    "string=str(number)\n",
    "print(string)\n",
    "type(string)"
   ]
  },
  {
   "cell_type": "code",
   "execution_count": 18,
   "id": "95ab9ac1-4836-40d2-9c08-b5c9bdf75c36",
   "metadata": {},
   "outputs": [
    {
     "name": "stdout",
     "output_type": "stream",
     "text": [
      "3.14 is pi\n"
     ]
    }
   ],
   "source": [
    "#12. What will the expression str(3.14) + ' is pi' output?\n",
    "\n",
    "print(str(3.14)+' is pi')"
   ]
  },
  {
   "cell_type": "code",
   "execution_count": 19,
   "id": "7aa0ca34-0feb-4140-81a4-ed7a8615f9bc",
   "metadata": {},
   "outputs": [
    {
     "name": "stdout",
     "output_type": "stream",
     "text": [
      "7.5\n"
     ]
    },
    {
     "data": {
      "text/plain": [
       "float"
      ]
     },
     "execution_count": 19,
     "metadata": {},
     "output_type": "execute_result"
    }
   ],
   "source": [
    "# 13. What is the output type of the expression 4 + 3.5?\n",
    "\n",
    "r=4+3.5\n",
    "print(r)\n",
    "type(r)"
   ]
  },
  {
   "cell_type": "code",
   "execution_count": 21,
   "id": "7e9c2e26-a23f-41e3-96f6-32d63b292201",
   "metadata": {},
   "outputs": [
    {
     "name": "stdin",
     "output_type": "stream",
     "text": [
      "enter the number 65\n"
     ]
    },
    {
     "name": "stdout",
     "output_type": "stream",
     "text": [
      "65\n"
     ]
    }
   ],
   "source": [
    "# 14. Write a Python code to take an input from the user and convert it to an integer\n",
    "\n",
    "input=int(input(\"enter the number\"))\n",
    "print(input)"
   ]
  },
  {
   "cell_type": "code",
   "execution_count": 24,
   "id": "2e549dbc-2fbe-4f4f-9ea9-7d402971ddd1",
   "metadata": {},
   "outputs": [
    {
     "name": "stdout",
     "output_type": "stream",
     "text": [
      "<class 'int'>\n",
      "<class 'float'>\n",
      "<class 'str'>\n"
     ]
    }
   ],
   "source": [
    "# 15. How can you find the type of a variable in Python?\n",
    "#Ans.By using type() function.\n",
    "x=4\n",
    "y=4.5\n",
    "k='string'\n",
    "\n",
    "print(type(x))\n",
    "print(type(y))\n",
    "print(type(k))\n"
   ]
  },
  {
   "cell_type": "code",
   "execution_count": 25,
   "id": "832837de-31e2-4ee2-810d-2b3cbddfb898",
   "metadata": {},
   "outputs": [
    {
     "data": {
      "text/plain": [
       "str"
      ]
     },
     "execution_count": 25,
     "metadata": {},
     "output_type": "execute_result"
    }
   ],
   "source": [
    "# 16. Create a variable my_name and assign your name to it. Check if it is of type str.\n",
    "#Ans.\n",
    "my_name='zain'\n",
    "type(my_name)"
   ]
  },
  {
   "cell_type": "code",
   "execution_count": 47,
   "id": "23f6d2f2-fd12-4f4d-a6ca-9deadefec70a",
   "metadata": {},
   "outputs": [],
   "source": [
    "#Data Structures - Lists, Tuples, Sets, and Dictionaries"
   ]
  },
  {
   "cell_type": "code",
   "execution_count": 26,
   "id": "ab7aafec-2bf8-4048-89f3-72fd2280755f",
   "metadata": {},
   "outputs": [
    {
     "name": "stdout",
     "output_type": "stream",
     "text": [
      "[]\n"
     ]
    }
   ],
   "source": [
    "#17. How do you create an empty list in Python?\n",
    "#Ans. a empty list can be made by'[]'\n",
    "K=[]\n",
    "print(K)"
   ]
  },
  {
   "cell_type": "code",
   "execution_count": 29,
   "id": "84ee5148-46b4-4b6f-8764-b59e42ba2558",
   "metadata": {},
   "outputs": [
    {
     "name": "stdout",
     "output_type": "stream",
     "text": [
      "[1, 2, 3]\n",
      "after adding 42 in list [1, 2, 3, 42]\n"
     ]
    }
   ],
   "source": [
    "# 18. Write code to add an element 42 to the end of the list [1, 2, 3].\n",
    "#Ans\n",
    "l=[1,2,3]\n",
    "print(l)\n",
    "l.append(42)\n",
    "print(\"after adding 42 in list\", l)"
   ]
  },
  {
   "cell_type": "code",
   "execution_count": 32,
   "id": "2b5b26d6-dbfa-4965-88b5-c3b05ef8071c",
   "metadata": {},
   "outputs": [
    {
     "name": "stdout",
     "output_type": "stream",
     "text": [
      "[10, 20, 30, 40]\n",
      "the third element od the list is 30\n"
     ]
    }
   ],
   "source": [
    "# 19. How do you access the third element in the list my_list = [10, 20, 30, 40]?\n",
    "#Ans.third element can be accessed by indexing of list\n",
    "\n",
    "my_list=[10, 20, 30, 40]\n",
    "print(my_list)\n",
    "\n",
    "print(\"the third element od the list is\",my_list[2])"
   ]
  },
  {
   "cell_type": "code",
   "execution_count": 33,
   "id": "d56feda8-fa2f-41c9-a80b-2937baf74ae5",
   "metadata": {},
   "outputs": [],
   "source": [
    "# 20. What is the difference between a list and a tuple in Python?\n",
    "#Ans.\n",
    "#list : list is mutable and is represented by'[]'\n",
    "#tuple: tuple is immutable and represented by'()'"
   ]
  },
  {
   "cell_type": "code",
   "execution_count": 36,
   "id": "97ccbf13-dd2b-4eae-8a99-9a69de259f85",
   "metadata": {},
   "outputs": [
    {
     "data": {
      "text/plain": [
       "{1, 2, 3}"
      ]
     },
     "execution_count": 36,
     "metadata": {},
     "output_type": "execute_result"
    }
   ],
   "source": [
    "#21. Write a Python code to create a set with the elements 1, 2, and 3.\n",
    "#ans. set is represented in '{}' and only unique number\n",
    "set={1,2,3,}\n",
    "set"
   ]
  },
  {
   "cell_type": "code",
   "execution_count": 39,
   "id": "a643ffb3-fefc-4654-8789-41c125d9d3ff",
   "metadata": {},
   "outputs": [
    {
     "name": "stdout",
     "output_type": "stream",
     "text": [
      "{1, 2, 3, 4}\n",
      "after removing 3 from set {1, 2, 4}\n"
     ]
    }
   ],
   "source": [
    "#22. How do you remove an element from a set in Python?\n",
    "#ans. to remove use set.remove()\n",
    "set={1,2,3,4}\n",
    "print(set)\n",
    "#to remove nummber 3\n",
    "set.remove(3)\n",
    "print(\"after removing 3 from set\",set)"
   ]
  },
  {
   "cell_type": "code",
   "execution_count": 40,
   "id": "c83d8f0b-d7d8-4531-80fc-e1e54edbaf8d",
   "metadata": {},
   "outputs": [
    {
     "name": "stdout",
     "output_type": "stream",
     "text": [
      "Alice\n"
     ]
    }
   ],
   "source": [
    "#23. Write code to retrieve the value of the key 'name' from the dictionary person = {'name': 'Alice','age': 25}.\n",
    "#to retrieve a value from dictionary the expression is 'dictionary_name['key_name']\n",
    "\n",
    "person = {'name': 'Alice','age': 25}\n",
    "print(person['name'])"
   ]
  },
  {
   "cell_type": "code",
   "execution_count": 44,
   "id": "a2a795b3-18bf-43ea-97bb-1704f0de1283",
   "metadata": {},
   "outputs": [
    {
     "name": "stdout",
     "output_type": "stream",
     "text": [
      "{'name': 'Alice', 'age': 25}\n"
     ]
    }
   ],
   "source": [
    "#24. Create a dictionary with three key-value pairs and then remove one pair from it\n",
    "#ans, to remove use del function\n",
    "my_dict = {'name': 'Alice', 'age': 25, 'city': 'New York'}\n",
    "\n",
    "# Remove the 'city' key-value pair\n",
    "del my_dict['city']\n",
    "\n",
    "print(my_dict)"
   ]
  },
  {
   "cell_type": "code",
   "execution_count": 46,
   "id": "8fed81f0-5cef-4463-b73f-2479e2bebac8",
   "metadata": {},
   "outputs": [
    {
     "name": "stdout",
     "output_type": "stream",
     "text": [
      "10\n"
     ]
    }
   ],
   "source": [
    "# 25. Given my_tuple = (5, 10, 15), how can you access the element 10?\n",
    "#ans. to access 10 we use tuple[1]\n",
    "my_tuple = (5, 10, 15)\n",
    "print(my_tuple[1])"
   ]
  },
  {
   "cell_type": "code",
   "execution_count": 48,
   "id": "3a6f132f-2abd-4a08-b39c-9a7a8c802c27",
   "metadata": {},
   "outputs": [],
   "source": [
    "#Methods of Data Structures"
   ]
  },
  {
   "cell_type": "code",
   "execution_count": 50,
   "id": "aa906bac-9141-4934-89dd-43ed43a22007",
   "metadata": {},
   "outputs": [
    {
     "name": "stdout",
     "output_type": "stream",
     "text": [
      "the length of the list is 5\n"
     ]
    }
   ],
   "source": [
    "#26. How do you find the length of a list numbers = [1, 2, 3, 4, 5]?\n",
    "#ans. by using len() function\n",
    "numbers = [1, 2, 3, 4, 5]\n",
    "print(\"the length of the list is\",len(numbers))"
   ]
  },
  {
   "cell_type": "code",
   "execution_count": 54,
   "id": "7bf59ef7-f8e4-4c56-bc53-aeb11a8771c4",
   "metadata": {},
   "outputs": [
    {
     "name": "stdout",
     "output_type": "stream",
     "text": [
      "[1, 2, 3, 4, 5]\n",
      "after inserting 6 on 3rd index [1, 2, 3, 6, 4, 5]\n"
     ]
    }
   ],
   "source": [
    "# 27. What method would you use to add an element at a specific index in a list?\n",
    "#ans. by using insert() function\n",
    "numbers = [1, 2, 3, 4, 5]\n",
    "print(numbers)\n",
    "#to insert 6 on index 3\n",
    "numbers.insert(3,6)\n",
    "print(\"after inserting 6 on 3rd index\",numbers)"
   ]
  },
  {
   "cell_type": "code",
   "execution_count": 56,
   "id": "ad7025c8-1cfd-4925-8c83-e89731fea589",
   "metadata": {},
   "outputs": [
    {
     "name": "stdout",
     "output_type": "stream",
     "text": [
      "[4, 1, 3, 2]\n"
     ]
    },
    {
     "data": {
      "text/plain": [
       "[1, 2, 3, 4]"
      ]
     },
     "execution_count": 56,
     "metadata": {},
     "output_type": "execute_result"
    }
   ],
   "source": [
    "#28. Write a Python code to sort the list [4, 1, 3, 2] in ascending order.\n",
    "#ans. to sort use sort() function\n",
    "list =[4, 1, 3, 2]\n",
    "print(list)\n",
    "#to print in ascending keep reverse=false or leave blank\n",
    "list.sort(reverse=False)\n",
    "list"
   ]
  },
  {
   "cell_type": "code",
   "execution_count": 58,
   "id": "93514e3f-47ab-4056-8681-ba4280fa99df",
   "metadata": {},
   "outputs": [
    {
     "name": "stdout",
     "output_type": "stream",
     "text": [
      "5 is present in list\n"
     ]
    }
   ],
   "source": [
    "# 29. How do you check if the number 5 is in the list [1, 2, 3, 4, 5]?\n",
    "#ans by using if loop we can apply two ore more condition\n",
    "list= [1, 2, 3, 4, 5]\n",
    "if 5 in list:\n",
    "    print(\"5 is present in list\")\n",
    "else:\n",
    "    print(\"5 is not present in list\")"
   ]
  },
  {
   "cell_type": "code",
   "execution_count": 60,
   "id": "5f013d6e-aa75-4c49-bf05-5ccab5f00f8d",
   "metadata": {},
   "outputs": [
    {
     "name": "stdout",
     "output_type": "stream",
     "text": [
      "list 1= [1, 2, 3]\n",
      "list 2= [4, 5, 6]\n",
      "list1 + list2 = [1, 2, 3, 4, 5, 6]\n"
     ]
    }
   ],
   "source": [
    "#30. Write a code to concatenate two lists [1, 2, 3] and [4, 5, 6].\n",
    "#ans. using '+'\n",
    "\n",
    "list1=[1, 2, 3]\n",
    "print(\"list 1=\",list1)\n",
    "list2=[4, 5, 6]\n",
    "print(\"list 2=\",list2)\n",
    "list3=list1+list2\n",
    "print(\"list1 + list2 =\",list3)"
   ]
  },
  {
   "cell_type": "code",
   "execution_count": 61,
   "id": "af3e03fa-e9ae-4443-8455-f5abf76e5708",
   "metadata": {},
   "outputs": [
    {
     "name": "stdout",
     "output_type": "stream",
     "text": [
      "the number is positive\n"
     ]
    }
   ],
   "source": [
    "# 31. Write a Python if statement to check if a number x is positive.\n",
    "#ans\n",
    "x=6\n",
    "if x>0:\n",
    "    print(\"the number is positive\")\n",
    "else:\n",
    "    print(\"the number is negative or zero\")"
   ]
  },
  {
   "cell_type": "code",
   "execution_count": 76,
   "id": "49a79c63-21c2-40d0-956d-fe982000c17f",
   "metadata": {},
   "outputs": [
    {
     "name": "stdout",
     "output_type": "stream",
     "text": [
      "the number is  zero\n"
     ]
    }
   ],
   "source": [
    "# 32. Modify the previous question to include else to handle the case when x is negative or zero\n",
    "#Ans.\n",
    "x=0\n",
    "if x>0:\n",
    "    print(\"the number is positive\")\n",
    "elif x==0:\n",
    "        print(\"the number is  zero\")\n",
    "else:\n",
    "    print(\"the number is negative\")"
   ]
  },
  {
   "cell_type": "code",
   "execution_count": 78,
   "id": "5f188d3b-016a-478c-98b6-02fbda240bf3",
   "metadata": {},
   "outputs": [
    {
     "name": "stdout",
     "output_type": "stream",
     "text": [
      "the number is negative\n"
     ]
    }
   ],
   "source": [
    "# 33. Write an if-elif-else block to check if a number is positive, negative, or zero\n",
    "x=-1\n",
    "if x>0:\n",
    "    print(\"the number is positive\")\n",
    "elif x==0:\n",
    "        print(\"the number is  zero\")\n",
    "else:\n",
    "    print(\"the number is negative\")"
   ]
  },
  {
   "cell_type": "code",
   "execution_count": 79,
   "id": "2a50a4c8-5a9c-4b05-aecf-74cb8cd53bc3",
   "metadata": {},
   "outputs": [
    {
     "name": "stdout",
     "output_type": "stream",
     "text": [
      "10\n"
     ]
    }
   ],
   "source": [
    "# 34. How would you use a ternary operator to assign the value 10 to result if x > 5, otherwise assign5?\n",
    "#ans\n",
    "x = 7\n",
    "result = 10 if x > 5 else 5\n",
    "\n",
    "print(result) "
   ]
  },
  {
   "cell_type": "code",
   "execution_count": 80,
   "id": "5f773687-7b73-41db-b3a4-ed35467108c6",
   "metadata": {},
   "outputs": [
    {
     "name": "stdout",
     "output_type": "stream",
     "text": [
      "A grade\n"
     ]
    }
   ],
   "source": [
    "# 35. Write an if statement that checks if a variable score is greater than or equal to 90, and if so, prints 'A grade'.\n",
    "\n",
    "score = 95\n",
    "\n",
    "if score >= 90:\n",
    "    print(\"A grade\")"
   ]
  },
  {
   "cell_type": "code",
   "execution_count": 81,
   "id": "fd6cffca-53be-4d2d-bb14-89199a719ad2",
   "metadata": {},
   "outputs": [
    {
     "name": "stdout",
     "output_type": "stream",
     "text": [
      "The list contains 'banana'\n"
     ]
    }
   ],
   "source": [
    "# 36. Use an if statement to check if a list fruits = ['apple', 'banana', 'cherry'] contains the element 'banana'.\n",
    "#ans\n",
    "fruits = ['apple', 'banana', 'cherry']\n",
    "\n",
    "if 'banana' in fruits:\n",
    "    print(\"The list contains 'banana'\")\n",
    "else:\n",
    "    print(\"The list does not contain 'banana'\")"
   ]
  },
  {
   "cell_type": "code",
   "execution_count": 82,
   "id": "50efe265-9af6-4a05-a4ee-aab6ed7ba07f",
   "metadata": {},
   "outputs": [
    {
     "name": "stdout",
     "output_type": "stream",
     "text": [
      "Adult male\n"
     ]
    }
   ],
   "source": [
    "#37. Write a nested if statement that prints 'Adult Male' if age > 18 and gender == 'male'\n",
    "#ans\n",
    "age=20\n",
    "\n",
    "if age>18:\n",
    "    print(\"Adult male\")\n",
    "else:\n",
    "    print(\"young male\")"
   ]
  },
  {
   "cell_type": "code",
   "execution_count": 83,
   "id": "eb77647c-550b-4502-a3a5-be4235385336",
   "metadata": {},
   "outputs": [
    {
     "name": "stdout",
     "output_type": "stream",
     "text": [
      "The number is divisible by both 3 and 5.\n"
     ]
    }
   ],
   "source": [
    "#38.Create a Python code snippet using if statements to determine if a number is divisible by 3, 5, or both.\n",
    "#ans.\n",
    "number = 15  \n",
    "\n",
    "if number % 3 == 0 and number % 5 == 0:\n",
    "    print(\"The number is divisible by both 3 and 5.\")\n",
    "elif number % 3 == 0:\n",
    "    print(\"The number is divisible by 3.\")\n",
    "elif number % 5 == 0:\n",
    "    print(\"The number is divisible by 5.\")\n",
    "else:\n",
    "    print(\"The number is not divisible by 3 or 5.\")"
   ]
  },
  {
   "cell_type": "code",
   "execution_count": 84,
   "id": "b18e6187-4921-4971-bcc2-43568cadf753",
   "metadata": {},
   "outputs": [
    {
     "name": "stdout",
     "output_type": "stream",
     "text": [
      "Name is provided\n"
     ]
    }
   ],
   "source": [
    "# 39. Write an if condition that checks if a string name is not empty and prints 'Name is provided'.\n",
    "#ans,\n",
    "name = \"Alice\"  \n",
    "\n",
    "if name:\n",
    "    print(\"Name is provided\")\n",
    "else:\n",
    "    print(\"Name is not provided\")"
   ]
  },
  {
   "cell_type": "code",
   "execution_count": 85,
   "id": "4d732f33-53f6-49bd-b705-c2993c8396a5",
   "metadata": {},
   "outputs": [
    {
     "name": "stdout",
     "output_type": "stream",
     "text": [
      "Age is within the range 18-25\n"
     ]
    }
   ],
   "source": [
    "#40. Use an if statement to check if a variable age is within the range 18 to 25 inclusive.\n",
    "age = 22\n",
    "\n",
    "if 18 <= age <= 25:\n",
    "    print(\"Age is within the range 18-25\")\n",
    "else:\n",
    "    print(\"Age is not within the range 18-25\")"
   ]
  },
  {
   "cell_type": "code",
   "execution_count": null,
   "id": "7b0f50b4-bb4b-4ff3-97ad-1e9b50a71a3f",
   "metadata": {},
   "outputs": [],
   "source": []
  }
 ],
 "metadata": {
  "kernelspec": {
   "display_name": "Python 3 (ipykernel)",
   "language": "python",
   "name": "python3"
  },
  "language_info": {
   "codemirror_mode": {
    "name": "ipython",
    "version": 3
   },
   "file_extension": ".py",
   "mimetype": "text/x-python",
   "name": "python",
   "nbconvert_exporter": "python",
   "pygments_lexer": "ipython3",
   "version": "3.11.4"
  }
 },
 "nbformat": 4,
 "nbformat_minor": 5
}
