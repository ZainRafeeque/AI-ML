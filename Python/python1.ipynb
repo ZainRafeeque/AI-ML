{
 "cells": [
  {
   "cell_type": "code",
   "execution_count": 1,
   "id": "785dd78a-4135-4071-b42b-fb2ce0186338",
   "metadata": {},
   "outputs": [],
   "source": [
    "import keyword\n"
   ]
  },
  {
   "cell_type": "code",
   "execution_count": 2,
   "id": "a6ffa354-eb62-409f-95af-daeb3f2633eb",
   "metadata": {},
   "outputs": [
    {
     "name": "stdout",
     "output_type": "stream",
     "text": [
      "['False', 'None', 'True', 'and', 'as', 'assert', 'async', 'await', 'break', 'class', 'continue', 'def', 'del', 'elif', 'else', 'except', 'finally', 'for', 'from', 'global', 'if', 'import', 'in', 'is', 'lambda', 'nonlocal', 'not', 'or', 'pass', 'raise', 'return', 'try', 'while', 'with', 'yield']\n"
     ]
    }
   ],
   "source": [
    "print(keyword.kwlist)\n"
   ]
  },
  {
   "cell_type": "code",
   "execution_count": 3,
   "id": "ca124deb-29af-4f5c-bf37-3b3b6967ad6f",
   "metadata": {},
   "outputs": [],
   "source": [
    "#BOOLEAN EXPRESSIONS"
   ]
  },
  {
   "cell_type": "code",
   "execution_count": 4,
   "id": "1cf5d75f-894d-4cf1-b644-ecdc12b70547",
   "metadata": {},
   "outputs": [
    {
     "data": {
      "text/plain": [
       "False"
      ]
     },
     "execution_count": 4,
     "metadata": {},
     "output_type": "execute_result"
    }
   ],
   "source": [
    "True and False\n"
   ]
  },
  {
   "cell_type": "code",
   "execution_count": 5,
   "id": "e1711c4d-bec0-420b-bc98-117da0d6af40",
   "metadata": {},
   "outputs": [
    {
     "data": {
      "text/plain": [
       "True"
      ]
     },
     "execution_count": 5,
     "metadata": {},
     "output_type": "execute_result"
    }
   ],
   "source": [
    "True and True"
   ]
  },
  {
   "cell_type": "code",
   "execution_count": 7,
   "id": "996c30eb-f0ac-4f17-a8f2-461c2014d3b8",
   "metadata": {},
   "outputs": [
    {
     "data": {
      "text/plain": [
       "True"
      ]
     },
     "execution_count": 7,
     "metadata": {},
     "output_type": "execute_result"
    }
   ],
   "source": [
    "True or False"
   ]
  },
  {
   "cell_type": "code",
   "execution_count": 9,
   "id": "82f9e4da-1de2-4f3b-8dd2-056f5efd3526",
   "metadata": {},
   "outputs": [
    {
     "data": {
      "text/plain": [
       "False"
      ]
     },
     "execution_count": 9,
     "metadata": {},
     "output_type": "execute_result"
    }
   ],
   "source": [
    "False or False"
   ]
  },
  {
   "cell_type": "code",
   "execution_count": 10,
   "id": "9354dee6-9dfe-4017-95b4-20cadf6cf8fd",
   "metadata": {},
   "outputs": [
    {
     "data": {
      "text/plain": [
       "True"
      ]
     },
     "execution_count": 10,
     "metadata": {},
     "output_type": "execute_result"
    }
   ],
   "source": [
    "not False\n"
   ]
  },
  {
   "cell_type": "code",
   "execution_count": 11,
   "id": "94ed2c24-e9ba-402c-9212-6506406e4bd6",
   "metadata": {},
   "outputs": [
    {
     "data": {
      "text/plain": [
       "False"
      ]
     },
     "execution_count": 11,
     "metadata": {},
     "output_type": "execute_result"
    }
   ],
   "source": [
    "not True\n"
   ]
  },
  {
   "cell_type": "code",
   "execution_count": 12,
   "id": "042b79b2-177f-49d0-a2f7-fda7478e5df0",
   "metadata": {},
   "outputs": [],
   "source": [
    "#'is' = '=='"
   ]
  },
  {
   "cell_type": "code",
   "execution_count": 13,
   "id": "3141b858-a394-4f9c-9a6b-16576c2f6434",
   "metadata": {},
   "outputs": [
    {
     "data": {
      "text/plain": [
       "False"
      ]
     },
     "execution_count": 13,
     "metadata": {},
     "output_type": "execute_result"
    }
   ],
   "source": [
    "True is False"
   ]
  },
  {
   "cell_type": "code",
   "execution_count": 14,
   "id": "44d95220-a436-4abf-98da-89b03f105ee5",
   "metadata": {},
   "outputs": [
    {
     "name": "stderr",
     "output_type": "stream",
     "text": [
      "<>:1: SyntaxWarning: \"is\" with a literal. Did you mean \"==\"?\n",
      "<>:1: SyntaxWarning: \"is\" with a literal. Did you mean \"==\"?\n",
      "C:\\Users\\zainr\\AppData\\Local\\Temp\\ipykernel_33400\\1299567991.py:1: SyntaxWarning: \"is\" with a literal. Did you mean \"==\"?\n",
      "  'b' is 'd'\n"
     ]
    },
    {
     "data": {
      "text/plain": [
       "False"
      ]
     },
     "execution_count": 14,
     "metadata": {},
     "output_type": "execute_result"
    }
   ],
   "source": [
    "'b' is 'd'"
   ]
  },
  {
   "cell_type": "code",
   "execution_count": 15,
   "id": "7dd4f5a8-e2be-4523-9cd0-224c071bcccc",
   "metadata": {},
   "outputs": [],
   "source": [
    "#True=1\n",
    "#False=0"
   ]
  },
  {
   "cell_type": "code",
   "execution_count": 16,
   "id": "d2b521a1-42e6-44cf-98ab-37119ddf85cd",
   "metadata": {},
   "outputs": [
    {
     "data": {
      "text/plain": [
       "2"
      ]
     },
     "execution_count": 16,
     "metadata": {},
     "output_type": "execute_result"
    }
   ],
   "source": [
    "True + False + True"
   ]
  },
  {
   "cell_type": "code",
   "execution_count": 17,
   "id": "cd355c68-1a1c-4486-874f-a6ea470ba94e",
   "metadata": {},
   "outputs": [
    {
     "data": {
      "text/plain": [
       "3"
      ]
     },
     "execution_count": 17,
     "metadata": {},
     "output_type": "execute_result"
    }
   ],
   "source": [
    "True + False + True + True"
   ]
  },
  {
   "cell_type": "code",
   "execution_count": 18,
   "id": "6efe05ff-c800-4887-aa4e-649ca300d896",
   "metadata": {},
   "outputs": [
    {
     "data": {
      "text/plain": [
       "-2"
      ]
     },
     "execution_count": 18,
     "metadata": {},
     "output_type": "execute_result"
    }
   ],
   "source": [
    "False-True-True"
   ]
  },
  {
   "cell_type": "code",
   "execution_count": 19,
   "id": "94829737-5951-4803-8bf2-c1a554d59af0",
   "metadata": {},
   "outputs": [
    {
     "data": {
      "text/plain": [
       "False"
      ]
     },
     "execution_count": 19,
     "metadata": {},
     "output_type": "execute_result"
    }
   ],
   "source": [
    "10<=7"
   ]
  },
  {
   "cell_type": "code",
   "execution_count": 20,
   "id": "3764b92b-e4a7-4712-87b1-9de1b5342b95",
   "metadata": {},
   "outputs": [
    {
     "data": {
      "text/plain": [
       "False"
      ]
     },
     "execution_count": 20,
     "metadata": {},
     "output_type": "execute_result"
    }
   ],
   "source": [
    "True and False or False"
   ]
  },
  {
   "cell_type": "code",
   "execution_count": 21,
   "id": "a63ce253-8bb7-4f86-92a9-195e5b0afb38",
   "metadata": {},
   "outputs": [],
   "source": [
    "#Data Types\n",
    "# 1- Numbers/Integer\n",
    "# 2-String\n",
    "# 3-Boolean\n",
    "# 4-complex number\n",
    "# 5-Float"
   ]
  },
  {
   "cell_type": "code",
   "execution_count": null,
   "id": "46c43f01-51e2-47c9-8e6e-f9a50fe17de4",
   "metadata": {},
   "outputs": [],
   "source": [
    "#INTEGER"
   ]
  },
  {
   "cell_type": "code",
   "execution_count": 22,
   "id": "29ce9501-b288-4f3e-8969-63c1af0ff590",
   "metadata": {},
   "outputs": [],
   "source": [
    "y=25"
   ]
  },
  {
   "cell_type": "code",
   "execution_count": 23,
   "id": "92c93ddc-cf13-4877-9e92-5ad9b50e7341",
   "metadata": {},
   "outputs": [
    {
     "data": {
      "text/plain": [
       "int"
      ]
     },
     "execution_count": 23,
     "metadata": {},
     "output_type": "execute_result"
    }
   ],
   "source": [
    "type(y)\n"
   ]
  },
  {
   "cell_type": "code",
   "execution_count": 24,
   "id": "5843b423-acbd-4cb6-bf96-21b236df5101",
   "metadata": {},
   "outputs": [],
   "source": [
    "#FLOAT"
   ]
  },
  {
   "cell_type": "code",
   "execution_count": 25,
   "id": "281a8c69-8b52-4756-95ef-643ea728c466",
   "metadata": {},
   "outputs": [],
   "source": [
    "x=25.6\n"
   ]
  },
  {
   "cell_type": "code",
   "execution_count": 26,
   "id": "5a11d03e-9ce7-424a-b377-ad53c9badd0b",
   "metadata": {},
   "outputs": [
    {
     "data": {
      "text/plain": [
       "25.6"
      ]
     },
     "execution_count": 26,
     "metadata": {},
     "output_type": "execute_result"
    }
   ],
   "source": [
    "x"
   ]
  },
  {
   "cell_type": "code",
   "execution_count": 27,
   "id": "ec1284d9-bae1-4351-9d7b-8c31d97807f5",
   "metadata": {},
   "outputs": [
    {
     "data": {
      "text/plain": [
       "float"
      ]
     },
     "execution_count": 27,
     "metadata": {},
     "output_type": "execute_result"
    }
   ],
   "source": [
    "type(x)"
   ]
  },
  {
   "cell_type": "code",
   "execution_count": 28,
   "id": "b547bc5c-36b2-42bd-bcb4-ba0bf644a096",
   "metadata": {},
   "outputs": [],
   "source": [
    "#Mathematical Operation"
   ]
  },
  {
   "cell_type": "code",
   "execution_count": 30,
   "id": "3cd1693a-4112-4da5-a252-6a8c01168e89",
   "metadata": {},
   "outputs": [
    {
     "data": {
      "text/plain": [
       "6"
      ]
     },
     "execution_count": 30,
     "metadata": {},
     "output_type": "execute_result"
    }
   ],
   "source": [
    "x=2+4\n",
    "x"
   ]
  },
  {
   "cell_type": "code",
   "execution_count": 34,
   "id": "5a03b67a-44ac-4ceb-876b-5f3cb4d6f3c5",
   "metadata": {},
   "outputs": [
    {
     "name": "stdout",
     "output_type": "stream",
     "text": [
      "66\n",
      "33.0\n"
     ]
    }
   ],
   "source": [
    "a=45\n",
    "b=21\n",
    "c=a+b\n",
    "print(c)\n",
    "print(c/2)"
   ]
  },
  {
   "cell_type": "code",
   "execution_count": null,
   "id": "6aa26f5d-26fb-494a-8586-80ab93bab93a",
   "metadata": {},
   "outputs": [],
   "source": []
  }
 ],
 "metadata": {
  "kernelspec": {
   "display_name": "Python 3 (ipykernel)",
   "language": "python",
   "name": "python3"
  },
  "language_info": {
   "codemirror_mode": {
    "name": "ipython",
    "version": 3
   },
   "file_extension": ".py",
   "mimetype": "text/x-python",
   "name": "python",
   "nbconvert_exporter": "python",
   "pygments_lexer": "ipython3",
   "version": "3.11.4"
  }
 },
 "nbformat": 4,
 "nbformat_minor": 5
}
